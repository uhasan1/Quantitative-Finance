{
 "cells": [
  {
   "cell_type": "markdown",
   "metadata": {
    "focus": false,
    "id": "2bd62dd0-8f25-4203-8faf-9ec99b96aef2",
    "slideshow": {
     "slide_type": "slide"
    }
   },
   "source": [
    "# Introduction to Numpy\n",
    "\n",
    "More info: [http://wiki.scipy.org/Tentative_NumPy_Tutorial](http://wiki.scipy.org/Tentative_NumPy_Tutorial)"
   ]
  },
  {
   "cell_type": "markdown",
   "metadata": {
    "focus": false,
    "id": "7db20dcb-cef2-4ae9-b44a-7b04744f74cf",
    "slideshow": {
     "slide_type": "subslide"
    }
   },
   "source": [
    "## Numpy Overview\n",
    "\n",
    "* Why Python for Data? Numpy brings *decades* of C math into Python!\n",
    "* Numpy provides a wrapper for extensive C/C++/Fortran codebases, used for data analysis functionality\n",
    "* NDAarray allows easy vectorized math and broadcasting (i.e. functions for vector elements of different shapes)"
   ]
  },
  {
   "cell_type": "code",
   "execution_count": 1,
   "metadata": {
    "focus": false,
    "id": "247250c7-2583-41fa-9198-6198b83fd243",
    "slideshow": {
     "slide_type": "subslide"
    }
   },
   "outputs": [],
   "source": [
    "import numpy as np"
   ]
  },
  {
   "cell_type": "markdown",
   "metadata": {
    "focus": false,
    "id": "7b1b97a1-ccb0-44a9-a0f8-12dcc590bc66",
    "slideshow": {
     "slide_type": "subslide"
    }
   },
   "source": [
    "### Creating ndarrays"
   ]
  },
  {
   "cell_type": "markdown",
   "metadata": {
    "focus": false,
    "id": "d6f83896-c0f2-4185-a528-481262fe2d91",
    "slideshow": {
     "slide_type": "fragment"
    }
   },
   "source": [
    "An array object represents a multidimensional, homogeneous array of fixed-size items. "
   ]
  },
  {
   "cell_type": "code",
   "execution_count": 2,
   "metadata": {
    "focus": false,
    "id": "54f9011d-2143-4bb7-81fc-e3216ac4c866",
    "slideshow": {
     "slide_type": "subslide"
    }
   },
   "outputs": [],
   "source": [
    "# Creating arrays\n",
    "a = np.zeros((3))\n",
    "b = np.ones((2,3))\n",
    "c = np.random.randint(1,10,(2,3,4))\n",
    "d = np.arange(0,11,1)"
   ]
  },
  {
   "cell_type": "code",
   "execution_count": 3,
   "metadata": {
    "focus": false,
    "id": "a84a1773-b477-421f-9f17-e26eb326b408",
    "slideshow": {
     "slide_type": "fragment"
    }
   },
   "outputs": [
    {
     "name": "stdout",
     "output_type": "stream",
     "text": [
      "[0. 0. 0.]\n",
      "[[1. 1. 1.]\n",
      " [1. 1. 1.]]\n",
      "[[[9 2 1 9]\n",
      "  [5 6 1 3]\n",
      "  [1 7 2 1]]\n",
      "\n",
      " [[7 4 7 3]\n",
      "  [1 1 7 7]\n",
      "  [8 4 2 9]]]\n",
      "[ 0  1  2  3  4  5  6  7  8  9 10]\n"
     ]
    }
   ],
   "source": [
    "# Note the way each array is printed:\n",
    "print(a)\n",
    "print(b)\n",
    "print(c)\n",
    "print(d)"
   ]
  },
  {
   "cell_type": "markdown",
   "metadata": {
    "focus": false,
    "id": "67c9acc2-c9a7-4636-acca-038bd99def6d",
    "slideshow": {
     "slide_type": "subslide"
    }
   },
   "source": [
    "### Arithmetic in arrays is element wise"
   ]
  },
  {
   "cell_type": "code",
   "execution_count": 4,
   "metadata": {
    "focus": false,
    "id": "34461526-ff37-4e7d-8ff9-2f6887c10a1a",
    "slideshow": {
     "slide_type": "fragment"
    }
   },
   "outputs": [
    {
     "name": "stdout",
     "output_type": "stream",
     "text": [
      "[20 30 40 50]\n",
      "[0 1 2 3]\n"
     ]
    }
   ],
   "source": [
    "a = np.array( [20,30,40,50] )\n",
    "b = np.arange(4)\n",
    "print(a)\n",
    "print(b)"
   ]
  },
  {
   "cell_type": "code",
   "execution_count": 5,
   "metadata": {
    "focus": false,
    "id": "9b21c965-2734-4f09-aae0-4d344b93e681",
    "slideshow": {
     "slide_type": "fragment"
    }
   },
   "outputs": [
    {
     "data": {
      "text/plain": [
       "array([20, 29, 38, 47])"
      ]
     },
     "execution_count": 5,
     "metadata": {},
     "output_type": "execute_result"
    }
   ],
   "source": [
    "c = a - b\n",
    "c"
   ]
  },
  {
   "cell_type": "code",
   "execution_count": 6,
   "metadata": {
    "focus": false,
    "id": "03828206-43b2-445f-b54d-7ebaca5585f5",
    "slideshow": {
     "slide_type": "fragment"
    }
   },
   "outputs": [
    {
     "data": {
      "text/plain": [
       "array([0, 1, 4, 9])"
      ]
     },
     "execution_count": 6,
     "metadata": {},
     "output_type": "execute_result"
    }
   ],
   "source": [
    "b**2"
   ]
  },
  {
   "cell_type": "markdown",
   "metadata": {
    "focus": false,
    "id": "e4c29549-9a0a-420c-9f86-99a798daa288",
    "slideshow": {
     "slide_type": "subslide"
    }
   },
   "source": [
    "### Indexing, Slicing and Iterating"
   ]
  },
  {
   "cell_type": "code",
   "execution_count": 7,
   "metadata": {
    "focus": false,
    "id": "100e8b85-16f4-43e0-9c47-67c60e1f81ed",
    "slideshow": {
     "slide_type": "fragment"
    }
   },
   "outputs": [
    {
     "data": {
      "text/plain": [
       "array([ 0,  1,  4,  9, 16, 25, 36, 49, 64, 81])"
      ]
     },
     "execution_count": 7,
     "metadata": {},
     "output_type": "execute_result"
    }
   ],
   "source": [
    "# one-dimensional arrays work like lists:\n",
    "a = np.arange(10)**2\n",
    "a"
   ]
  },
  {
   "cell_type": "code",
   "execution_count": 8,
   "metadata": {
    "focus": false,
    "id": "8d56b369-acfc-4e82-b325-c1aba3ee35cd",
    "slideshow": {
     "slide_type": "fragment"
    }
   },
   "outputs": [
    {
     "data": {
      "text/plain": [
       "array([ 4,  9, 16])"
      ]
     },
     "execution_count": 8,
     "metadata": {},
     "output_type": "execute_result"
    }
   ],
   "source": [
    "a[2:5]"
   ]
  },
  {
   "cell_type": "code",
   "execution_count": 9,
   "metadata": {
    "focus": false,
    "id": "7dbe0ac8-d44b-4698-82c6-537afff33cea",
    "slideshow": {
     "slide_type": "subslide"
    }
   },
   "outputs": [],
   "source": [
    "# Multidimensional arrays use tuples with commas for indexing\n",
    "# with (row,column) conventions beginning, as always in Python, from 0"
   ]
  },
  {
   "cell_type": "code",
   "execution_count": 10,
   "metadata": {
    "focus": false,
    "id": "27ba2fb0-9c69-438f-9136-da9c2204b100",
    "slideshow": {
     "slide_type": "fragment"
    }
   },
   "outputs": [],
   "source": [
    "b = np.random.randint(1,100,(4,4))"
   ]
  },
  {
   "cell_type": "code",
   "execution_count": 11,
   "metadata": {
    "focus": false,
    "id": "845e0d23-74e7-4f8b-a6ca-cc7a8984b13b",
    "slideshow": {
     "slide_type": "fragment"
    }
   },
   "outputs": [
    {
     "data": {
      "text/plain": [
       "array([[ 8, 50, 72, 75],\n",
       "       [77, 16, 96, 62],\n",
       "       [36, 46, 10, 30],\n",
       "       [90, 72, 38, 85]])"
      ]
     },
     "execution_count": 11,
     "metadata": {},
     "output_type": "execute_result"
    }
   ],
   "source": [
    "b"
   ]
  },
  {
   "cell_type": "code",
   "execution_count": 12,
   "metadata": {
    "focus": false,
    "id": "58463e8a-312c-4ff9-970f-c8204d6dbc30",
    "slideshow": {
     "slide_type": "fragment"
    }
   },
   "outputs": [
    {
     "name": "stdout",
     "output_type": "stream",
     "text": [
      "30\n",
      "8\n"
     ]
    }
   ],
   "source": [
    "# Guess the output\n",
    "print(b[2,3])\n",
    "print(b[0,0])"
   ]
  },
  {
   "cell_type": "code",
   "execution_count": 13,
   "metadata": {
    "focus": false,
    "id": "77b7d441-34a9-4d52-aab7-563e966702c9",
    "slideshow": {
     "slide_type": "fragment"
    }
   },
   "outputs": [
    {
     "name": "stdout",
     "output_type": "stream",
     "text": [
      "[50 16 46]\n",
      "[[50 72]\n",
      " [16 96]\n",
      " [46 10]\n",
      " [72 38]]\n"
     ]
    }
   ],
   "source": [
    "print(b[0:3,1])\n",
    "print(b[:,1:3])"
   ]
  },
  {
   "cell_type": "code",
   "execution_count": 14,
   "metadata": {
    "focus": false,
    "id": "9b24506c-d8e4-4f1b-8fdb-b9c835b980c9",
    "slideshow": {
     "slide_type": "fragment"
    }
   },
   "outputs": [
    {
     "data": {
      "text/plain": [
       "array([[77, 16, 96, 62],\n",
       "       [36, 46, 10, 30]])"
      ]
     },
     "execution_count": 14,
     "metadata": {},
     "output_type": "execute_result"
    }
   ],
   "source": [
    "b[1:3,:]"
   ]
  },
  {
   "cell_type": "markdown",
   "metadata": {
    "focus": false,
    "id": "39dee2d5-b969-40d1-9bcb-9061b29c317b",
    "slideshow": {
     "slide_type": "slide"
    }
   },
   "source": [
    "# Introduction to Pandas"
   ]
  },
  {
   "cell_type": "markdown",
   "metadata": {
    "focus": false,
    "id": "7306e5f4-bc93-4370-9156-7ad4bb0b3662",
    "slideshow": {
     "slide_type": "slide"
    }
   },
   "source": [
    "## Pandas Overview"
   ]
  },
  {
   "cell_type": "code",
   "execution_count": 1,
   "metadata": {
    "focus": false,
    "id": "25de189f-b377-4fac-896f-757f71485109",
    "slideshow": {
     "slide_type": "subslide"
    }
   },
   "outputs": [],
   "source": [
    "import pandas as pd\n",
    "import numpy as np"
   ]
  },
  {
   "cell_type": "markdown",
   "metadata": {},
   "source": [
    "###Import a dataset \n",
    "\n",
    "Use shift + tab to invoke the parameter intellisense "
   ]
  },
  {
   "cell_type": "code",
   "execution_count": 2,
   "metadata": {},
   "outputs": [],
   "source": [
    "passengers = pd.read_csv(\"data/air_passengers/air-passenger-arrivals-by-country-of-embarkation.csv\")"
   ]
  },
  {
   "cell_type": "markdown",
   "metadata": {},
   "source": [
    "### View the first five rows"
   ]
  },
  {
   "cell_type": "code",
   "execution_count": 17,
   "metadata": {},
   "outputs": [
    {
     "data": {
      "text/html": [
       "<div>\n",
       "<style scoped>\n",
       "    .dataframe tbody tr th:only-of-type {\n",
       "        vertical-align: middle;\n",
       "    }\n",
       "\n",
       "    .dataframe tbody tr th {\n",
       "        vertical-align: top;\n",
       "    }\n",
       "\n",
       "    .dataframe thead th {\n",
       "        text-align: right;\n",
       "    }\n",
       "</style>\n",
       "<table border=\"1\" class=\"dataframe\">\n",
       "  <thead>\n",
       "    <tr style=\"text-align: right;\">\n",
       "      <th></th>\n",
       "      <th>month</th>\n",
       "      <th>level_1</th>\n",
       "      <th>level_2</th>\n",
       "      <th>level_3</th>\n",
       "      <th>value</th>\n",
       "    </tr>\n",
       "  </thead>\n",
       "  <tbody>\n",
       "    <tr>\n",
       "      <th>0</th>\n",
       "      <td>1961-01</td>\n",
       "      <td>Number Of Air Passenger Arrivals</td>\n",
       "      <td>South East Asia</td>\n",
       "      <td>Malaysia</td>\n",
       "      <td>na</td>\n",
       "    </tr>\n",
       "    <tr>\n",
       "      <th>1</th>\n",
       "      <td>1961-01</td>\n",
       "      <td>Number Of Air Passenger Arrivals</td>\n",
       "      <td>South East Asia</td>\n",
       "      <td>Indonesia</td>\n",
       "      <td>1687</td>\n",
       "    </tr>\n",
       "    <tr>\n",
       "      <th>2</th>\n",
       "      <td>1961-01</td>\n",
       "      <td>Number Of Air Passenger Arrivals</td>\n",
       "      <td>South East Asia</td>\n",
       "      <td>Thailand</td>\n",
       "      <td>1172</td>\n",
       "    </tr>\n",
       "    <tr>\n",
       "      <th>3</th>\n",
       "      <td>1961-01</td>\n",
       "      <td>Number Of Air Passenger Arrivals</td>\n",
       "      <td>South East Asia</td>\n",
       "      <td>Philippines</td>\n",
       "      <td>139</td>\n",
       "    </tr>\n",
       "    <tr>\n",
       "      <th>4</th>\n",
       "      <td>1961-01</td>\n",
       "      <td>Number Of Air Passenger Arrivals</td>\n",
       "      <td>South East Asia</td>\n",
       "      <td>Vietnam</td>\n",
       "      <td>na</td>\n",
       "    </tr>\n",
       "  </tbody>\n",
       "</table>\n",
       "</div>"
      ],
      "text/plain": [
       "     month                           level_1          level_2      level_3  \\\n",
       "0  1961-01  Number Of Air Passenger Arrivals  South East Asia     Malaysia   \n",
       "1  1961-01  Number Of Air Passenger Arrivals  South East Asia    Indonesia   \n",
       "2  1961-01  Number Of Air Passenger Arrivals  South East Asia     Thailand   \n",
       "3  1961-01  Number Of Air Passenger Arrivals  South East Asia  Philippines   \n",
       "4  1961-01  Number Of Air Passenger Arrivals  South East Asia      Vietnam   \n",
       "\n",
       "  value  \n",
       "0    na  \n",
       "1  1687  \n",
       "2  1172  \n",
       "3   139  \n",
       "4    na  "
      ]
     },
     "execution_count": 17,
     "metadata": {},
     "output_type": "execute_result"
    }
   ],
   "source": [
    "passengers.head()"
   ]
  },
  {
   "cell_type": "markdown",
   "metadata": {},
   "source": [
    "### Bottom seven rows"
   ]
  },
  {
   "cell_type": "code",
   "execution_count": 18,
   "metadata": {},
   "outputs": [
    {
     "data": {
      "text/html": [
       "<div>\n",
       "<style scoped>\n",
       "    .dataframe tbody tr th:only-of-type {\n",
       "        vertical-align: middle;\n",
       "    }\n",
       "\n",
       "    .dataframe tbody tr th {\n",
       "        vertical-align: top;\n",
       "    }\n",
       "\n",
       "    .dataframe thead th {\n",
       "        text-align: right;\n",
       "    }\n",
       "</style>\n",
       "<table border=\"1\" class=\"dataframe\">\n",
       "  <thead>\n",
       "    <tr style=\"text-align: right;\">\n",
       "      <th></th>\n",
       "      <th>month</th>\n",
       "      <th>level_1</th>\n",
       "      <th>level_2</th>\n",
       "      <th>level_3</th>\n",
       "      <th>value</th>\n",
       "    </tr>\n",
       "  </thead>\n",
       "  <tbody>\n",
       "    <tr>\n",
       "      <th>7418</th>\n",
       "      <td>2017-03</td>\n",
       "      <td>Number Of Air Passenger Arrivals</td>\n",
       "      <td>South East Asia</td>\n",
       "      <td>Vietnam</td>\n",
       "      <td>102567</td>\n",
       "    </tr>\n",
       "    <tr>\n",
       "      <th>7419</th>\n",
       "      <td>2017-03</td>\n",
       "      <td>Number Of Air Passenger Arrivals</td>\n",
       "      <td>North East Asia</td>\n",
       "      <td>China</td>\n",
       "      <td>243818</td>\n",
       "    </tr>\n",
       "    <tr>\n",
       "      <th>7420</th>\n",
       "      <td>2017-03</td>\n",
       "      <td>Number Of Air Passenger Arrivals</td>\n",
       "      <td>North East Asia</td>\n",
       "      <td>Hong Kong</td>\n",
       "      <td>146329</td>\n",
       "    </tr>\n",
       "    <tr>\n",
       "      <th>7421</th>\n",
       "      <td>2017-03</td>\n",
       "      <td>Number Of Air Passenger Arrivals</td>\n",
       "      <td>North East Asia</td>\n",
       "      <td>Japan</td>\n",
       "      <td>115925</td>\n",
       "    </tr>\n",
       "    <tr>\n",
       "      <th>7422</th>\n",
       "      <td>2017-03</td>\n",
       "      <td>Number Of Air Passenger Arrivals</td>\n",
       "      <td>Europe</td>\n",
       "      <td>United Kingdom</td>\n",
       "      <td>50101</td>\n",
       "    </tr>\n",
       "    <tr>\n",
       "      <th>7423</th>\n",
       "      <td>2017-03</td>\n",
       "      <td>Number Of Air Passenger Arrivals</td>\n",
       "      <td>Europe</td>\n",
       "      <td>France</td>\n",
       "      <td>16911</td>\n",
       "    </tr>\n",
       "    <tr>\n",
       "      <th>7424</th>\n",
       "      <td>2017-03</td>\n",
       "      <td>Number Of Air Passenger Arrivals</td>\n",
       "      <td>Europe</td>\n",
       "      <td>Germany</td>\n",
       "      <td>34072</td>\n",
       "    </tr>\n",
       "  </tbody>\n",
       "</table>\n",
       "</div>"
      ],
      "text/plain": [
       "        month                           level_1          level_2  \\\n",
       "7418  2017-03  Number Of Air Passenger Arrivals  South East Asia   \n",
       "7419  2017-03  Number Of Air Passenger Arrivals  North East Asia   \n",
       "7420  2017-03  Number Of Air Passenger Arrivals  North East Asia   \n",
       "7421  2017-03  Number Of Air Passenger Arrivals  North East Asia   \n",
       "7422  2017-03  Number Of Air Passenger Arrivals           Europe   \n",
       "7423  2017-03  Number Of Air Passenger Arrivals           Europe   \n",
       "7424  2017-03  Number Of Air Passenger Arrivals           Europe   \n",
       "\n",
       "             level_3   value  \n",
       "7418         Vietnam  102567  \n",
       "7419           China  243818  \n",
       "7420       Hong Kong  146329  \n",
       "7421           Japan  115925  \n",
       "7422  United Kingdom   50101  \n",
       "7423          France   16911  \n",
       "7424         Germany   34072  "
      ]
     },
     "execution_count": 18,
     "metadata": {},
     "output_type": "execute_result"
    }
   ],
   "source": [
    "passengers.tail(7)"
   ]
  },
  {
   "cell_type": "markdown",
   "metadata": {},
   "source": [
    "### Length of dataset"
   ]
  },
  {
   "cell_type": "code",
   "execution_count": 19,
   "metadata": {},
   "outputs": [
    {
     "data": {
      "text/plain": [
       "7425"
      ]
     },
     "execution_count": 19,
     "metadata": {},
     "output_type": "execute_result"
    }
   ],
   "source": [
    "len(passengers)"
   ]
  },
  {
   "cell_type": "code",
   "execution_count": 20,
   "metadata": {},
   "outputs": [
    {
     "data": {
      "text/plain": [
       "(7425, 5)"
      ]
     },
     "execution_count": 20,
     "metadata": {},
     "output_type": "execute_result"
    }
   ],
   "source": [
    "passengers.shape"
   ]
  },
  {
   "cell_type": "markdown",
   "metadata": {},
   "source": [
    "### Count for each variable in the dataset"
   ]
  },
  {
   "cell_type": "code",
   "execution_count": 21,
   "metadata": {},
   "outputs": [
    {
     "data": {
      "text/plain": [
       "month      7425\n",
       "level_1    7425\n",
       "level_2    7425\n",
       "level_3    7425\n",
       "value      7425\n",
       "dtype: int64"
      ]
     },
     "execution_count": 21,
     "metadata": {},
     "output_type": "execute_result"
    }
   ],
   "source": [
    "passengers.count()"
   ]
  },
  {
   "cell_type": "markdown",
   "metadata": {},
   "source": [
    "### Statistics for the dataset"
   ]
  },
  {
   "cell_type": "code",
   "execution_count": 22,
   "metadata": {},
   "outputs": [
    {
     "data": {
      "text/html": [
       "<div>\n",
       "<style scoped>\n",
       "    .dataframe tbody tr th:only-of-type {\n",
       "        vertical-align: middle;\n",
       "    }\n",
       "\n",
       "    .dataframe tbody tr th {\n",
       "        vertical-align: top;\n",
       "    }\n",
       "\n",
       "    .dataframe thead th {\n",
       "        text-align: right;\n",
       "    }\n",
       "</style>\n",
       "<table border=\"1\" class=\"dataframe\">\n",
       "  <thead>\n",
       "    <tr style=\"text-align: right;\">\n",
       "      <th></th>\n",
       "      <th>month</th>\n",
       "      <th>level_1</th>\n",
       "      <th>level_2</th>\n",
       "      <th>level_3</th>\n",
       "      <th>value</th>\n",
       "    </tr>\n",
       "  </thead>\n",
       "  <tbody>\n",
       "    <tr>\n",
       "      <th>count</th>\n",
       "      <td>7425</td>\n",
       "      <td>7425</td>\n",
       "      <td>7425</td>\n",
       "      <td>7425</td>\n",
       "      <td>7425</td>\n",
       "    </tr>\n",
       "    <tr>\n",
       "      <th>unique</th>\n",
       "      <td>675</td>\n",
       "      <td>1</td>\n",
       "      <td>3</td>\n",
       "      <td>11</td>\n",
       "      <td>5841</td>\n",
       "    </tr>\n",
       "    <tr>\n",
       "      <th>top</th>\n",
       "      <td>1983-08</td>\n",
       "      <td>Number Of Air Passenger Arrivals</td>\n",
       "      <td>South East Asia</td>\n",
       "      <td>Indonesia</td>\n",
       "      <td>na</td>\n",
       "    </tr>\n",
       "    <tr>\n",
       "      <th>freq</th>\n",
       "      <td>11</td>\n",
       "      <td>7425</td>\n",
       "      <td>3375</td>\n",
       "      <td>675</td>\n",
       "      <td>1368</td>\n",
       "    </tr>\n",
       "  </tbody>\n",
       "</table>\n",
       "</div>"
      ],
      "text/plain": [
       "          month                           level_1          level_2    level_3  \\\n",
       "count      7425                              7425             7425       7425   \n",
       "unique      675                                 1                3         11   \n",
       "top     1983-08  Number Of Air Passenger Arrivals  South East Asia  Indonesia   \n",
       "freq         11                              7425             3375        675   \n",
       "\n",
       "       value  \n",
       "count   7425  \n",
       "unique  5841  \n",
       "top       na  \n",
       "freq    1368  "
      ]
     },
     "execution_count": 22,
     "metadata": {},
     "output_type": "execute_result"
    }
   ],
   "source": [
    "passengers.describe()"
   ]
  },
  {
   "cell_type": "markdown",
   "metadata": {},
   "source": [
    "### Datatypes for each column, automatically inferred by Pandas"
   ]
  },
  {
   "cell_type": "code",
   "execution_count": 23,
   "metadata": {},
   "outputs": [
    {
     "data": {
      "text/plain": [
       "month      object\n",
       "level_1    object\n",
       "level_2    object\n",
       "level_3    object\n",
       "value      object\n",
       "dtype: object"
      ]
     },
     "execution_count": 23,
     "metadata": {},
     "output_type": "execute_result"
    }
   ],
   "source": [
    "passengers.dtypes"
   ]
  },
  {
   "cell_type": "markdown",
   "metadata": {},
   "source": [
    "Value should be numeric, but null values are specified as strings \"na\" or \"-\""
   ]
  },
  {
   "cell_type": "markdown",
   "metadata": {},
   "source": [
    "### Re-importing the data, specifying null values and column names"
   ]
  },
  {
   "cell_type": "code",
   "execution_count": 4,
   "metadata": {},
   "outputs": [],
   "source": [
    "passengers = pd.read_csv(\"data/air_passengers/air-passenger-arrivals-by-country-of-embarkation.csv\", na_values=[\"na\", \"-\"],\n",
    "                        names=[\"year_month\", \"total\", \"region\", \"country\", \"value\"], header=0)"
   ]
  },
  {
   "cell_type": "markdown",
   "metadata": {},
   "source": [
    "### Describe by default shows stats for numeric columns"
   ]
  },
  {
   "cell_type": "code",
   "execution_count": 36,
   "metadata": {},
   "outputs": [
    {
     "data": {
      "text/html": [
       "<div>\n",
       "<style scoped>\n",
       "    .dataframe tbody tr th:only-of-type {\n",
       "        vertical-align: middle;\n",
       "    }\n",
       "\n",
       "    .dataframe tbody tr th {\n",
       "        vertical-align: top;\n",
       "    }\n",
       "\n",
       "    .dataframe thead th {\n",
       "        text-align: right;\n",
       "    }\n",
       "</style>\n",
       "<table border=\"1\" class=\"dataframe\">\n",
       "  <thead>\n",
       "    <tr style=\"text-align: right;\">\n",
       "      <th></th>\n",
       "      <th>value</th>\n",
       "    </tr>\n",
       "  </thead>\n",
       "  <tbody>\n",
       "    <tr>\n",
       "      <th>count</th>\n",
       "      <td>6056.000000</td>\n",
       "    </tr>\n",
       "    <tr>\n",
       "      <th>mean</th>\n",
       "      <td>55459.162979</td>\n",
       "    </tr>\n",
       "    <tr>\n",
       "      <th>std</th>\n",
       "      <td>61370.732088</td>\n",
       "    </tr>\n",
       "    <tr>\n",
       "      <th>min</th>\n",
       "      <td>19.000000</td>\n",
       "    </tr>\n",
       "    <tr>\n",
       "      <th>25%</th>\n",
       "      <td>10647.250000</td>\n",
       "    </tr>\n",
       "    <tr>\n",
       "      <th>50%</th>\n",
       "      <td>32011.500000</td>\n",
       "    </tr>\n",
       "    <tr>\n",
       "      <th>75%</th>\n",
       "      <td>82153.000000</td>\n",
       "    </tr>\n",
       "    <tr>\n",
       "      <th>max</th>\n",
       "      <td>372597.000000</td>\n",
       "    </tr>\n",
       "  </tbody>\n",
       "</table>\n",
       "</div>"
      ],
      "text/plain": [
       "               value\n",
       "count    6056.000000\n",
       "mean    55459.162979\n",
       "std     61370.732088\n",
       "min        19.000000\n",
       "25%     10647.250000\n",
       "50%     32011.500000\n",
       "75%     82153.000000\n",
       "max    372597.000000"
      ]
     },
     "execution_count": 36,
     "metadata": {},
     "output_type": "execute_result"
    }
   ],
   "source": [
    "passengers.describe()"
   ]
  },
  {
   "cell_type": "markdown",
   "metadata": {},
   "source": [
    "### Explicitly describing all columns"
   ]
  },
  {
   "cell_type": "code",
   "execution_count": 37,
   "metadata": {},
   "outputs": [
    {
     "data": {
      "text/html": [
       "<div>\n",
       "<style scoped>\n",
       "    .dataframe tbody tr th:only-of-type {\n",
       "        vertical-align: middle;\n",
       "    }\n",
       "\n",
       "    .dataframe tbody tr th {\n",
       "        vertical-align: top;\n",
       "    }\n",
       "\n",
       "    .dataframe thead th {\n",
       "        text-align: right;\n",
       "    }\n",
       "</style>\n",
       "<table border=\"1\" class=\"dataframe\">\n",
       "  <thead>\n",
       "    <tr style=\"text-align: right;\">\n",
       "      <th></th>\n",
       "      <th>year_month</th>\n",
       "      <th>total</th>\n",
       "      <th>region</th>\n",
       "      <th>country</th>\n",
       "      <th>value</th>\n",
       "    </tr>\n",
       "  </thead>\n",
       "  <tbody>\n",
       "    <tr>\n",
       "      <th>count</th>\n",
       "      <td>7425</td>\n",
       "      <td>7425</td>\n",
       "      <td>7425</td>\n",
       "      <td>7425</td>\n",
       "      <td>6056.000000</td>\n",
       "    </tr>\n",
       "    <tr>\n",
       "      <th>unique</th>\n",
       "      <td>675</td>\n",
       "      <td>1</td>\n",
       "      <td>3</td>\n",
       "      <td>11</td>\n",
       "      <td>NaN</td>\n",
       "    </tr>\n",
       "    <tr>\n",
       "      <th>top</th>\n",
       "      <td>1983-08</td>\n",
       "      <td>Number Of Air Passenger Arrivals</td>\n",
       "      <td>South East Asia</td>\n",
       "      <td>Indonesia</td>\n",
       "      <td>NaN</td>\n",
       "    </tr>\n",
       "    <tr>\n",
       "      <th>freq</th>\n",
       "      <td>11</td>\n",
       "      <td>7425</td>\n",
       "      <td>3375</td>\n",
       "      <td>675</td>\n",
       "      <td>NaN</td>\n",
       "    </tr>\n",
       "    <tr>\n",
       "      <th>mean</th>\n",
       "      <td>NaN</td>\n",
       "      <td>NaN</td>\n",
       "      <td>NaN</td>\n",
       "      <td>NaN</td>\n",
       "      <td>55459.162979</td>\n",
       "    </tr>\n",
       "    <tr>\n",
       "      <th>std</th>\n",
       "      <td>NaN</td>\n",
       "      <td>NaN</td>\n",
       "      <td>NaN</td>\n",
       "      <td>NaN</td>\n",
       "      <td>61370.732088</td>\n",
       "    </tr>\n",
       "    <tr>\n",
       "      <th>min</th>\n",
       "      <td>NaN</td>\n",
       "      <td>NaN</td>\n",
       "      <td>NaN</td>\n",
       "      <td>NaN</td>\n",
       "      <td>19.000000</td>\n",
       "    </tr>\n",
       "    <tr>\n",
       "      <th>25%</th>\n",
       "      <td>NaN</td>\n",
       "      <td>NaN</td>\n",
       "      <td>NaN</td>\n",
       "      <td>NaN</td>\n",
       "      <td>10647.250000</td>\n",
       "    </tr>\n",
       "    <tr>\n",
       "      <th>50%</th>\n",
       "      <td>NaN</td>\n",
       "      <td>NaN</td>\n",
       "      <td>NaN</td>\n",
       "      <td>NaN</td>\n",
       "      <td>32011.500000</td>\n",
       "    </tr>\n",
       "    <tr>\n",
       "      <th>75%</th>\n",
       "      <td>NaN</td>\n",
       "      <td>NaN</td>\n",
       "      <td>NaN</td>\n",
       "      <td>NaN</td>\n",
       "      <td>82153.000000</td>\n",
       "    </tr>\n",
       "    <tr>\n",
       "      <th>max</th>\n",
       "      <td>NaN</td>\n",
       "      <td>NaN</td>\n",
       "      <td>NaN</td>\n",
       "      <td>NaN</td>\n",
       "      <td>372597.000000</td>\n",
       "    </tr>\n",
       "  </tbody>\n",
       "</table>\n",
       "</div>"
      ],
      "text/plain": [
       "       year_month                             total           region  \\\n",
       "count        7425                              7425             7425   \n",
       "unique        675                                 1                3   \n",
       "top       1983-08  Number Of Air Passenger Arrivals  South East Asia   \n",
       "freq           11                              7425             3375   \n",
       "mean          NaN                               NaN              NaN   \n",
       "std           NaN                               NaN              NaN   \n",
       "min           NaN                               NaN              NaN   \n",
       "25%           NaN                               NaN              NaN   \n",
       "50%           NaN                               NaN              NaN   \n",
       "75%           NaN                               NaN              NaN   \n",
       "max           NaN                               NaN              NaN   \n",
       "\n",
       "          country          value  \n",
       "count        7425    6056.000000  \n",
       "unique         11            NaN  \n",
       "top     Indonesia            NaN  \n",
       "freq          675            NaN  \n",
       "mean          NaN   55459.162979  \n",
       "std           NaN   61370.732088  \n",
       "min           NaN      19.000000  \n",
       "25%           NaN   10647.250000  \n",
       "50%           NaN   32011.500000  \n",
       "75%           NaN   82153.000000  \n",
       "max           NaN  372597.000000  "
      ]
     },
     "execution_count": 37,
     "metadata": {},
     "output_type": "execute_result"
    }
   ],
   "source": [
    "passengers.describe(include='all')"
   ]
  },
  {
   "cell_type": "code",
   "execution_count": 5,
   "metadata": {},
   "outputs": [
    {
     "data": {
      "text/plain": [
       "Malaysia          675\n",
       "Philippines       675\n",
       "Germany           675\n",
       "Indonesia         675\n",
       "Hong Kong         675\n",
       "United Kingdom    675\n",
       "Thailand          675\n",
       "Vietnam           675\n",
       "China             675\n",
       "France            675\n",
       "Japan             675\n",
       "Name: country, dtype: int64"
      ]
     },
     "execution_count": 5,
     "metadata": {},
     "output_type": "execute_result"
    }
   ],
   "source": [
    "# Use value_counts() to count the frequency of unique entities under the specific column \n",
    "passengers[\"country\"].value_counts()"
   ]
  },
  {
   "cell_type": "markdown",
   "metadata": {},
   "source": [
    "### Total visitor arrivals by country"
   ]
  },
  {
   "cell_type": "code",
   "execution_count": 6,
   "metadata": {},
   "outputs": [
    {
     "data": {
      "text/plain": [
       "country\n",
       "China             29866493.0\n",
       "France             4462481.0\n",
       "Germany            8438001.0\n",
       "Hong Kong         35468033.0\n",
       "Indonesia         63995595.0\n",
       "Japan             30487564.0\n",
       "Malaysia          64924645.0\n",
       "Philippines       18466360.0\n",
       "Thailand          50736256.0\n",
       "United Kingdom    17950341.0\n",
       "Vietnam           11064922.0\n",
       "Name: value, dtype: float64"
      ]
     },
     "execution_count": 6,
     "metadata": {},
     "output_type": "execute_result"
    }
   ],
   "source": [
    "# Perform aggregation by country and value columns\n",
    "passengers.groupby(\"country\")[\"value\"].sum()"
   ]
  },
  {
   "cell_type": "markdown",
   "metadata": {},
   "source": [
    "### Sort the values by descending"
   ]
  },
  {
   "cell_type": "code",
   "execution_count": 40,
   "metadata": {},
   "outputs": [
    {
     "data": {
      "text/plain": [
       "country\n",
       "Malaysia          64924645.0\n",
       "Indonesia         63995595.0\n",
       "Thailand          50736256.0\n",
       "Hong Kong         35468033.0\n",
       "Japan             30487564.0\n",
       "China             29866493.0\n",
       "Philippines       18466360.0\n",
       "United Kingdom    17950341.0\n",
       "Vietnam           11064922.0\n",
       "Germany            8438001.0\n",
       "France             4462481.0\n",
       "Name: value, dtype: float64"
      ]
     },
     "execution_count": 40,
     "metadata": {},
     "output_type": "execute_result"
    }
   ],
   "source": [
    "passengers.groupby(\"country\")[\"value\"].sum().sort_values(ascending=False)"
   ]
  },
  {
   "cell_type": "markdown",
   "metadata": {},
   "source": [
    "### Filter results by year-month = '2017-01'"
   ]
  },
  {
   "cell_type": "code",
   "execution_count": 41,
   "metadata": {},
   "outputs": [
    {
     "data": {
      "text/html": [
       "<div>\n",
       "<style scoped>\n",
       "    .dataframe tbody tr th:only-of-type {\n",
       "        vertical-align: middle;\n",
       "    }\n",
       "\n",
       "    .dataframe tbody tr th {\n",
       "        vertical-align: top;\n",
       "    }\n",
       "\n",
       "    .dataframe thead th {\n",
       "        text-align: right;\n",
       "    }\n",
       "</style>\n",
       "<table border=\"1\" class=\"dataframe\">\n",
       "  <thead>\n",
       "    <tr style=\"text-align: right;\">\n",
       "      <th></th>\n",
       "      <th>year_month</th>\n",
       "      <th>total</th>\n",
       "      <th>region</th>\n",
       "      <th>country</th>\n",
       "      <th>value</th>\n",
       "    </tr>\n",
       "  </thead>\n",
       "  <tbody>\n",
       "    <tr>\n",
       "      <th>7392</th>\n",
       "      <td>2017-01</td>\n",
       "      <td>Number Of Air Passenger Arrivals</td>\n",
       "      <td>South East Asia</td>\n",
       "      <td>Malaysia</td>\n",
       "      <td>259314.0</td>\n",
       "    </tr>\n",
       "    <tr>\n",
       "      <th>7393</th>\n",
       "      <td>2017-01</td>\n",
       "      <td>Number Of Air Passenger Arrivals</td>\n",
       "      <td>South East Asia</td>\n",
       "      <td>Indonesia</td>\n",
       "      <td>308766.0</td>\n",
       "    </tr>\n",
       "    <tr>\n",
       "      <th>7394</th>\n",
       "      <td>2017-01</td>\n",
       "      <td>Number Of Air Passenger Arrivals</td>\n",
       "      <td>South East Asia</td>\n",
       "      <td>Thailand</td>\n",
       "      <td>244080.0</td>\n",
       "    </tr>\n",
       "    <tr>\n",
       "      <th>7395</th>\n",
       "      <td>2017-01</td>\n",
       "      <td>Number Of Air Passenger Arrivals</td>\n",
       "      <td>South East Asia</td>\n",
       "      <td>Philippines</td>\n",
       "      <td>139796.0</td>\n",
       "    </tr>\n",
       "    <tr>\n",
       "      <th>7396</th>\n",
       "      <td>2017-01</td>\n",
       "      <td>Number Of Air Passenger Arrivals</td>\n",
       "      <td>South East Asia</td>\n",
       "      <td>Vietnam</td>\n",
       "      <td>98670.0</td>\n",
       "    </tr>\n",
       "    <tr>\n",
       "      <th>7397</th>\n",
       "      <td>2017-01</td>\n",
       "      <td>Number Of Air Passenger Arrivals</td>\n",
       "      <td>North East Asia</td>\n",
       "      <td>China</td>\n",
       "      <td>296317.0</td>\n",
       "    </tr>\n",
       "    <tr>\n",
       "      <th>7398</th>\n",
       "      <td>2017-01</td>\n",
       "      <td>Number Of Air Passenger Arrivals</td>\n",
       "      <td>North East Asia</td>\n",
       "      <td>Hong Kong</td>\n",
       "      <td>161089.0</td>\n",
       "    </tr>\n",
       "    <tr>\n",
       "      <th>7399</th>\n",
       "      <td>2017-01</td>\n",
       "      <td>Number Of Air Passenger Arrivals</td>\n",
       "      <td>North East Asia</td>\n",
       "      <td>Japan</td>\n",
       "      <td>109393.0</td>\n",
       "    </tr>\n",
       "    <tr>\n",
       "      <th>7400</th>\n",
       "      <td>2017-01</td>\n",
       "      <td>Number Of Air Passenger Arrivals</td>\n",
       "      <td>Europe</td>\n",
       "      <td>United Kingdom</td>\n",
       "      <td>52431.0</td>\n",
       "    </tr>\n",
       "    <tr>\n",
       "      <th>7401</th>\n",
       "      <td>2017-01</td>\n",
       "      <td>Number Of Air Passenger Arrivals</td>\n",
       "      <td>Europe</td>\n",
       "      <td>France</td>\n",
       "      <td>18160.0</td>\n",
       "    </tr>\n",
       "    <tr>\n",
       "      <th>7402</th>\n",
       "      <td>2017-01</td>\n",
       "      <td>Number Of Air Passenger Arrivals</td>\n",
       "      <td>Europe</td>\n",
       "      <td>Germany</td>\n",
       "      <td>32906.0</td>\n",
       "    </tr>\n",
       "  </tbody>\n",
       "</table>\n",
       "</div>"
      ],
      "text/plain": [
       "     year_month                             total           region  \\\n",
       "7392    2017-01  Number Of Air Passenger Arrivals  South East Asia   \n",
       "7393    2017-01  Number Of Air Passenger Arrivals  South East Asia   \n",
       "7394    2017-01  Number Of Air Passenger Arrivals  South East Asia   \n",
       "7395    2017-01  Number Of Air Passenger Arrivals  South East Asia   \n",
       "7396    2017-01  Number Of Air Passenger Arrivals  South East Asia   \n",
       "7397    2017-01  Number Of Air Passenger Arrivals  North East Asia   \n",
       "7398    2017-01  Number Of Air Passenger Arrivals  North East Asia   \n",
       "7399    2017-01  Number Of Air Passenger Arrivals  North East Asia   \n",
       "7400    2017-01  Number Of Air Passenger Arrivals           Europe   \n",
       "7401    2017-01  Number Of Air Passenger Arrivals           Europe   \n",
       "7402    2017-01  Number Of Air Passenger Arrivals           Europe   \n",
       "\n",
       "             country     value  \n",
       "7392        Malaysia  259314.0  \n",
       "7393       Indonesia  308766.0  \n",
       "7394        Thailand  244080.0  \n",
       "7395     Philippines  139796.0  \n",
       "7396         Vietnam   98670.0  \n",
       "7397           China  296317.0  \n",
       "7398       Hong Kong  161089.0  \n",
       "7399           Japan  109393.0  \n",
       "7400  United Kingdom   52431.0  \n",
       "7401          France   18160.0  \n",
       "7402         Germany   32906.0  "
      ]
     },
     "execution_count": 41,
     "metadata": {},
     "output_type": "execute_result"
    }
   ],
   "source": [
    "passengers[passengers[\"year_month\"] == \"2017-01\"]"
   ]
  },
  {
   "cell_type": "code",
   "execution_count": 44,
   "metadata": {},
   "outputs": [
    {
     "data": {
      "text/html": [
       "<div>\n",
       "<style scoped>\n",
       "    .dataframe tbody tr th:only-of-type {\n",
       "        vertical-align: middle;\n",
       "    }\n",
       "\n",
       "    .dataframe tbody tr th {\n",
       "        vertical-align: top;\n",
       "    }\n",
       "\n",
       "    .dataframe thead th {\n",
       "        text-align: right;\n",
       "    }\n",
       "</style>\n",
       "<table border=\"1\" class=\"dataframe\">\n",
       "  <thead>\n",
       "    <tr style=\"text-align: right;\">\n",
       "      <th></th>\n",
       "      <th>year_month</th>\n",
       "      <th>total</th>\n",
       "      <th>region</th>\n",
       "      <th>country</th>\n",
       "      <th>value</th>\n",
       "    </tr>\n",
       "  </thead>\n",
       "  <tbody>\n",
       "    <tr>\n",
       "      <th>7392</th>\n",
       "      <td>2017-01</td>\n",
       "      <td>Number Of Air Passenger Arrivals</td>\n",
       "      <td>South East Asia</td>\n",
       "      <td>Malaysia</td>\n",
       "      <td>259314.0</td>\n",
       "    </tr>\n",
       "    <tr>\n",
       "      <th>7393</th>\n",
       "      <td>2017-01</td>\n",
       "      <td>Number Of Air Passenger Arrivals</td>\n",
       "      <td>South East Asia</td>\n",
       "      <td>Indonesia</td>\n",
       "      <td>308766.0</td>\n",
       "    </tr>\n",
       "    <tr>\n",
       "      <th>7394</th>\n",
       "      <td>2017-01</td>\n",
       "      <td>Number Of Air Passenger Arrivals</td>\n",
       "      <td>South East Asia</td>\n",
       "      <td>Thailand</td>\n",
       "      <td>244080.0</td>\n",
       "    </tr>\n",
       "    <tr>\n",
       "      <th>7395</th>\n",
       "      <td>2017-01</td>\n",
       "      <td>Number Of Air Passenger Arrivals</td>\n",
       "      <td>South East Asia</td>\n",
       "      <td>Philippines</td>\n",
       "      <td>139796.0</td>\n",
       "    </tr>\n",
       "    <tr>\n",
       "      <th>7396</th>\n",
       "      <td>2017-01</td>\n",
       "      <td>Number Of Air Passenger Arrivals</td>\n",
       "      <td>South East Asia</td>\n",
       "      <td>Vietnam</td>\n",
       "      <td>98670.0</td>\n",
       "    </tr>\n",
       "    <tr>\n",
       "      <th>7397</th>\n",
       "      <td>2017-01</td>\n",
       "      <td>Number Of Air Passenger Arrivals</td>\n",
       "      <td>North East Asia</td>\n",
       "      <td>China</td>\n",
       "      <td>296317.0</td>\n",
       "    </tr>\n",
       "    <tr>\n",
       "      <th>7398</th>\n",
       "      <td>2017-01</td>\n",
       "      <td>Number Of Air Passenger Arrivals</td>\n",
       "      <td>North East Asia</td>\n",
       "      <td>Hong Kong</td>\n",
       "      <td>161089.0</td>\n",
       "    </tr>\n",
       "    <tr>\n",
       "      <th>7399</th>\n",
       "      <td>2017-01</td>\n",
       "      <td>Number Of Air Passenger Arrivals</td>\n",
       "      <td>North East Asia</td>\n",
       "      <td>Japan</td>\n",
       "      <td>109393.0</td>\n",
       "    </tr>\n",
       "    <tr>\n",
       "      <th>7400</th>\n",
       "      <td>2017-01</td>\n",
       "      <td>Number Of Air Passenger Arrivals</td>\n",
       "      <td>Europe</td>\n",
       "      <td>United Kingdom</td>\n",
       "      <td>52431.0</td>\n",
       "    </tr>\n",
       "    <tr>\n",
       "      <th>7401</th>\n",
       "      <td>2017-01</td>\n",
       "      <td>Number Of Air Passenger Arrivals</td>\n",
       "      <td>Europe</td>\n",
       "      <td>France</td>\n",
       "      <td>18160.0</td>\n",
       "    </tr>\n",
       "    <tr>\n",
       "      <th>7402</th>\n",
       "      <td>2017-01</td>\n",
       "      <td>Number Of Air Passenger Arrivals</td>\n",
       "      <td>Europe</td>\n",
       "      <td>Germany</td>\n",
       "      <td>32906.0</td>\n",
       "    </tr>\n",
       "  </tbody>\n",
       "</table>\n",
       "</div>"
      ],
      "text/plain": [
       "     year_month                             total           region  \\\n",
       "7392    2017-01  Number Of Air Passenger Arrivals  South East Asia   \n",
       "7393    2017-01  Number Of Air Passenger Arrivals  South East Asia   \n",
       "7394    2017-01  Number Of Air Passenger Arrivals  South East Asia   \n",
       "7395    2017-01  Number Of Air Passenger Arrivals  South East Asia   \n",
       "7396    2017-01  Number Of Air Passenger Arrivals  South East Asia   \n",
       "7397    2017-01  Number Of Air Passenger Arrivals  North East Asia   \n",
       "7398    2017-01  Number Of Air Passenger Arrivals  North East Asia   \n",
       "7399    2017-01  Number Of Air Passenger Arrivals  North East Asia   \n",
       "7400    2017-01  Number Of Air Passenger Arrivals           Europe   \n",
       "7401    2017-01  Number Of Air Passenger Arrivals           Europe   \n",
       "7402    2017-01  Number Of Air Passenger Arrivals           Europe   \n",
       "\n",
       "             country     value  \n",
       "7392        Malaysia  259314.0  \n",
       "7393       Indonesia  308766.0  \n",
       "7394        Thailand  244080.0  \n",
       "7395     Philippines  139796.0  \n",
       "7396         Vietnam   98670.0  \n",
       "7397           China  296317.0  \n",
       "7398       Hong Kong  161089.0  \n",
       "7399           Japan  109393.0  \n",
       "7400  United Kingdom   52431.0  \n",
       "7401          France   18160.0  \n",
       "7402         Germany   32906.0  "
      ]
     },
     "execution_count": 44,
     "metadata": {},
     "output_type": "execute_result"
    }
   ],
   "source": [
    "# Recently, Pandas also introduced a SQL method: query, where users can query the column using conditions \n",
    "passengers.query('year_month == \"2017-01\"')"
   ]
  },
  {
   "cell_type": "markdown",
   "metadata": {},
   "source": [
    "### and sort by value"
   ]
  },
  {
   "cell_type": "code",
   "execution_count": 46,
   "metadata": {},
   "outputs": [],
   "source": [
    "passengers_201701 = passengers[passengers[\"year_month\"] == \"2017-01\"]"
   ]
  },
  {
   "cell_type": "code",
   "execution_count": 47,
   "metadata": {},
   "outputs": [
    {
     "data": {
      "text/html": [
       "<div>\n",
       "<style scoped>\n",
       "    .dataframe tbody tr th:only-of-type {\n",
       "        vertical-align: middle;\n",
       "    }\n",
       "\n",
       "    .dataframe tbody tr th {\n",
       "        vertical-align: top;\n",
       "    }\n",
       "\n",
       "    .dataframe thead th {\n",
       "        text-align: right;\n",
       "    }\n",
       "</style>\n",
       "<table border=\"1\" class=\"dataframe\">\n",
       "  <thead>\n",
       "    <tr style=\"text-align: right;\">\n",
       "      <th></th>\n",
       "      <th>year_month</th>\n",
       "      <th>total</th>\n",
       "      <th>region</th>\n",
       "      <th>country</th>\n",
       "      <th>value</th>\n",
       "    </tr>\n",
       "  </thead>\n",
       "  <tbody>\n",
       "    <tr>\n",
       "      <th>7393</th>\n",
       "      <td>2017-01</td>\n",
       "      <td>Number Of Air Passenger Arrivals</td>\n",
       "      <td>South East Asia</td>\n",
       "      <td>Indonesia</td>\n",
       "      <td>308766.0</td>\n",
       "    </tr>\n",
       "    <tr>\n",
       "      <th>7397</th>\n",
       "      <td>2017-01</td>\n",
       "      <td>Number Of Air Passenger Arrivals</td>\n",
       "      <td>North East Asia</td>\n",
       "      <td>China</td>\n",
       "      <td>296317.0</td>\n",
       "    </tr>\n",
       "    <tr>\n",
       "      <th>7392</th>\n",
       "      <td>2017-01</td>\n",
       "      <td>Number Of Air Passenger Arrivals</td>\n",
       "      <td>South East Asia</td>\n",
       "      <td>Malaysia</td>\n",
       "      <td>259314.0</td>\n",
       "    </tr>\n",
       "    <tr>\n",
       "      <th>7394</th>\n",
       "      <td>2017-01</td>\n",
       "      <td>Number Of Air Passenger Arrivals</td>\n",
       "      <td>South East Asia</td>\n",
       "      <td>Thailand</td>\n",
       "      <td>244080.0</td>\n",
       "    </tr>\n",
       "    <tr>\n",
       "      <th>7398</th>\n",
       "      <td>2017-01</td>\n",
       "      <td>Number Of Air Passenger Arrivals</td>\n",
       "      <td>North East Asia</td>\n",
       "      <td>Hong Kong</td>\n",
       "      <td>161089.0</td>\n",
       "    </tr>\n",
       "    <tr>\n",
       "      <th>7395</th>\n",
       "      <td>2017-01</td>\n",
       "      <td>Number Of Air Passenger Arrivals</td>\n",
       "      <td>South East Asia</td>\n",
       "      <td>Philippines</td>\n",
       "      <td>139796.0</td>\n",
       "    </tr>\n",
       "    <tr>\n",
       "      <th>7399</th>\n",
       "      <td>2017-01</td>\n",
       "      <td>Number Of Air Passenger Arrivals</td>\n",
       "      <td>North East Asia</td>\n",
       "      <td>Japan</td>\n",
       "      <td>109393.0</td>\n",
       "    </tr>\n",
       "    <tr>\n",
       "      <th>7396</th>\n",
       "      <td>2017-01</td>\n",
       "      <td>Number Of Air Passenger Arrivals</td>\n",
       "      <td>South East Asia</td>\n",
       "      <td>Vietnam</td>\n",
       "      <td>98670.0</td>\n",
       "    </tr>\n",
       "    <tr>\n",
       "      <th>7400</th>\n",
       "      <td>2017-01</td>\n",
       "      <td>Number Of Air Passenger Arrivals</td>\n",
       "      <td>Europe</td>\n",
       "      <td>United Kingdom</td>\n",
       "      <td>52431.0</td>\n",
       "    </tr>\n",
       "    <tr>\n",
       "      <th>7402</th>\n",
       "      <td>2017-01</td>\n",
       "      <td>Number Of Air Passenger Arrivals</td>\n",
       "      <td>Europe</td>\n",
       "      <td>Germany</td>\n",
       "      <td>32906.0</td>\n",
       "    </tr>\n",
       "    <tr>\n",
       "      <th>7401</th>\n",
       "      <td>2017-01</td>\n",
       "      <td>Number Of Air Passenger Arrivals</td>\n",
       "      <td>Europe</td>\n",
       "      <td>France</td>\n",
       "      <td>18160.0</td>\n",
       "    </tr>\n",
       "  </tbody>\n",
       "</table>\n",
       "</div>"
      ],
      "text/plain": [
       "     year_month                             total           region  \\\n",
       "7393    2017-01  Number Of Air Passenger Arrivals  South East Asia   \n",
       "7397    2017-01  Number Of Air Passenger Arrivals  North East Asia   \n",
       "7392    2017-01  Number Of Air Passenger Arrivals  South East Asia   \n",
       "7394    2017-01  Number Of Air Passenger Arrivals  South East Asia   \n",
       "7398    2017-01  Number Of Air Passenger Arrivals  North East Asia   \n",
       "7395    2017-01  Number Of Air Passenger Arrivals  South East Asia   \n",
       "7399    2017-01  Number Of Air Passenger Arrivals  North East Asia   \n",
       "7396    2017-01  Number Of Air Passenger Arrivals  South East Asia   \n",
       "7400    2017-01  Number Of Air Passenger Arrivals           Europe   \n",
       "7402    2017-01  Number Of Air Passenger Arrivals           Europe   \n",
       "7401    2017-01  Number Of Air Passenger Arrivals           Europe   \n",
       "\n",
       "             country     value  \n",
       "7393       Indonesia  308766.0  \n",
       "7397           China  296317.0  \n",
       "7392        Malaysia  259314.0  \n",
       "7394        Thailand  244080.0  \n",
       "7398       Hong Kong  161089.0  \n",
       "7395     Philippines  139796.0  \n",
       "7399           Japan  109393.0  \n",
       "7396         Vietnam   98670.0  \n",
       "7400  United Kingdom   52431.0  \n",
       "7402         Germany   32906.0  \n",
       "7401          France   18160.0  "
      ]
     },
     "execution_count": 47,
     "metadata": {},
     "output_type": "execute_result"
    }
   ],
   "source": [
    "passengers_201701.sort_values(by=\"value\", ascending=False)"
   ]
  },
  {
   "cell_type": "markdown",
   "metadata": {},
   "source": [
    "### What are the top five highest total arrivals by year-month?"
   ]
  },
  {
   "cell_type": "code",
   "execution_count": 48,
   "metadata": {},
   "outputs": [
    {
     "data": {
      "text/html": [
       "<div>\n",
       "<style scoped>\n",
       "    .dataframe tbody tr th:only-of-type {\n",
       "        vertical-align: middle;\n",
       "    }\n",
       "\n",
       "    .dataframe tbody tr th {\n",
       "        vertical-align: top;\n",
       "    }\n",
       "\n",
       "    .dataframe thead th {\n",
       "        text-align: right;\n",
       "    }\n",
       "</style>\n",
       "<table border=\"1\" class=\"dataframe\">\n",
       "  <thead>\n",
       "    <tr style=\"text-align: right;\">\n",
       "      <th></th>\n",
       "      <th>value</th>\n",
       "    </tr>\n",
       "    <tr>\n",
       "      <th>year_month</th>\n",
       "      <th></th>\n",
       "    </tr>\n",
       "  </thead>\n",
       "  <tbody>\n",
       "    <tr>\n",
       "      <th>2016-12</th>\n",
       "      <td>1813414.0</td>\n",
       "    </tr>\n",
       "    <tr>\n",
       "      <th>2016-07</th>\n",
       "      <td>1747537.0</td>\n",
       "    </tr>\n",
       "    <tr>\n",
       "      <th>2017-01</th>\n",
       "      <td>1720922.0</td>\n",
       "    </tr>\n",
       "    <tr>\n",
       "      <th>2017-03</th>\n",
       "      <td>1712386.0</td>\n",
       "    </tr>\n",
       "    <tr>\n",
       "      <th>2015-12</th>\n",
       "      <td>1710942.0</td>\n",
       "    </tr>\n",
       "  </tbody>\n",
       "</table>\n",
       "</div>"
      ],
      "text/plain": [
       "                value\n",
       "year_month           \n",
       "2016-12     1813414.0\n",
       "2016-07     1747537.0\n",
       "2017-01     1720922.0\n",
       "2017-03     1712386.0\n",
       "2015-12     1710942.0"
      ]
     },
     "execution_count": 48,
     "metadata": {},
     "output_type": "execute_result"
    }
   ],
   "source": [
    "passengers.groupby(\"year_month\").sum().sort_values(by=\"value\", ascending=False).head(5)"
   ]
  },
  {
   "cell_type": "markdown",
   "metadata": {},
   "source": [
    "### Which countries have the most number of months with arrivals > 100000"
   ]
  },
  {
   "cell_type": "code",
   "execution_count": 49,
   "metadata": {},
   "outputs": [
    {
     "data": {
      "text/plain": [
       "Malaysia       311\n",
       "Indonesia      269\n",
       "Thailand       225\n",
       "China          144\n",
       "Hong Kong      108\n",
       "Japan           51\n",
       "Philippines     45\n",
       "Vietnam          5\n",
       "Name: country, dtype: int64"
      ]
     },
     "execution_count": 49,
     "metadata": {},
     "output_type": "execute_result"
    }
   ],
   "source": [
    "passengers[passengers[\"value\"] > 100000][\"country\"].value_counts()"
   ]
  },
  {
   "cell_type": "markdown",
   "metadata": {},
   "source": [
    "## Adding columns for year and month"
   ]
  },
  {
   "cell_type": "code",
   "execution_count": 51,
   "metadata": {},
   "outputs": [],
   "source": [
    "passengers[\"year\"] = passengers[\"year_month\"].apply(lambda x: int(x.split(\"-\")[0]))"
   ]
  },
  {
   "cell_type": "code",
   "execution_count": 52,
   "metadata": {
    "collapsed": true
   },
   "outputs": [],
   "source": [
    "passengers[\"month\"] = passengers[\"year_month\"].apply(lambda x: int(x.split(\"-\")[1]))"
   ]
  },
  {
   "cell_type": "code",
   "execution_count": 9,
   "metadata": {},
   "outputs": [],
   "source": [
    "passengers[\"month2\"] = passengers[\"year_month\"].str.split(\"-\").str[1]"
   ]
  },
  {
   "cell_type": "code",
   "execution_count": 10,
   "metadata": {},
   "outputs": [
    {
     "data": {
      "text/html": [
       "<div>\n",
       "<style scoped>\n",
       "    .dataframe tbody tr th:only-of-type {\n",
       "        vertical-align: middle;\n",
       "    }\n",
       "\n",
       "    .dataframe tbody tr th {\n",
       "        vertical-align: top;\n",
       "    }\n",
       "\n",
       "    .dataframe thead th {\n",
       "        text-align: right;\n",
       "    }\n",
       "</style>\n",
       "<table border=\"1\" class=\"dataframe\">\n",
       "  <thead>\n",
       "    <tr style=\"text-align: right;\">\n",
       "      <th></th>\n",
       "      <th>year_month</th>\n",
       "      <th>total</th>\n",
       "      <th>region</th>\n",
       "      <th>country</th>\n",
       "      <th>value</th>\n",
       "      <th>month2</th>\n",
       "    </tr>\n",
       "  </thead>\n",
       "  <tbody>\n",
       "    <tr>\n",
       "      <th>0</th>\n",
       "      <td>1961-01</td>\n",
       "      <td>Number Of Air Passenger Arrivals</td>\n",
       "      <td>South East Asia</td>\n",
       "      <td>Malaysia</td>\n",
       "      <td>NaN</td>\n",
       "      <td>01</td>\n",
       "    </tr>\n",
       "    <tr>\n",
       "      <th>1</th>\n",
       "      <td>1961-01</td>\n",
       "      <td>Number Of Air Passenger Arrivals</td>\n",
       "      <td>South East Asia</td>\n",
       "      <td>Indonesia</td>\n",
       "      <td>1687.0</td>\n",
       "      <td>01</td>\n",
       "    </tr>\n",
       "    <tr>\n",
       "      <th>2</th>\n",
       "      <td>1961-01</td>\n",
       "      <td>Number Of Air Passenger Arrivals</td>\n",
       "      <td>South East Asia</td>\n",
       "      <td>Thailand</td>\n",
       "      <td>1172.0</td>\n",
       "      <td>01</td>\n",
       "    </tr>\n",
       "    <tr>\n",
       "      <th>3</th>\n",
       "      <td>1961-01</td>\n",
       "      <td>Number Of Air Passenger Arrivals</td>\n",
       "      <td>South East Asia</td>\n",
       "      <td>Philippines</td>\n",
       "      <td>139.0</td>\n",
       "      <td>01</td>\n",
       "    </tr>\n",
       "    <tr>\n",
       "      <th>4</th>\n",
       "      <td>1961-01</td>\n",
       "      <td>Number Of Air Passenger Arrivals</td>\n",
       "      <td>South East Asia</td>\n",
       "      <td>Vietnam</td>\n",
       "      <td>NaN</td>\n",
       "      <td>01</td>\n",
       "    </tr>\n",
       "  </tbody>\n",
       "</table>\n",
       "</div>"
      ],
      "text/plain": [
       "  year_month                             total           region      country  \\\n",
       "0    1961-01  Number Of Air Passenger Arrivals  South East Asia     Malaysia   \n",
       "1    1961-01  Number Of Air Passenger Arrivals  South East Asia    Indonesia   \n",
       "2    1961-01  Number Of Air Passenger Arrivals  South East Asia     Thailand   \n",
       "3    1961-01  Number Of Air Passenger Arrivals  South East Asia  Philippines   \n",
       "4    1961-01  Number Of Air Passenger Arrivals  South East Asia      Vietnam   \n",
       "\n",
       "    value month2  \n",
       "0     NaN     01  \n",
       "1  1687.0     01  \n",
       "2  1172.0     01  \n",
       "3   139.0     01  \n",
       "4     NaN     01  "
      ]
     },
     "execution_count": 10,
     "metadata": {},
     "output_type": "execute_result"
    }
   ],
   "source": [
    "passengers.head()"
   ]
  },
  {
   "cell_type": "markdown",
   "metadata": {},
   "source": [
    "### Average number of passenger arrivals by month"
   ]
  },
  {
   "cell_type": "code",
   "execution_count": 54,
   "metadata": {},
   "outputs": [
    {
     "data": {
      "text/html": [
       "<div>\n",
       "<style scoped>\n",
       "    .dataframe tbody tr th:only-of-type {\n",
       "        vertical-align: middle;\n",
       "    }\n",
       "\n",
       "    .dataframe tbody tr th {\n",
       "        vertical-align: top;\n",
       "    }\n",
       "\n",
       "    .dataframe thead th {\n",
       "        text-align: right;\n",
       "    }\n",
       "</style>\n",
       "<table border=\"1\" class=\"dataframe\">\n",
       "  <thead>\n",
       "    <tr style=\"text-align: right;\">\n",
       "      <th></th>\n",
       "      <th>value</th>\n",
       "      <th>year</th>\n",
       "    </tr>\n",
       "    <tr>\n",
       "      <th>month</th>\n",
       "      <th></th>\n",
       "      <th></th>\n",
       "    </tr>\n",
       "  </thead>\n",
       "  <tbody>\n",
       "    <tr>\n",
       "      <th>1</th>\n",
       "      <td>54484.202729</td>\n",
       "      <td>1989.0</td>\n",
       "    </tr>\n",
       "    <tr>\n",
       "      <th>2</th>\n",
       "      <td>52060.263158</td>\n",
       "      <td>1989.0</td>\n",
       "    </tr>\n",
       "    <tr>\n",
       "      <th>3</th>\n",
       "      <td>56602.124756</td>\n",
       "      <td>1989.0</td>\n",
       "    </tr>\n",
       "    <tr>\n",
       "      <th>4</th>\n",
       "      <td>51791.027888</td>\n",
       "      <td>1988.5</td>\n",
       "    </tr>\n",
       "    <tr>\n",
       "      <th>5</th>\n",
       "      <td>50962.653386</td>\n",
       "      <td>1988.5</td>\n",
       "    </tr>\n",
       "    <tr>\n",
       "      <th>6</th>\n",
       "      <td>57080.749004</td>\n",
       "      <td>1988.5</td>\n",
       "    </tr>\n",
       "    <tr>\n",
       "      <th>7</th>\n",
       "      <td>57530.515936</td>\n",
       "      <td>1988.5</td>\n",
       "    </tr>\n",
       "    <tr>\n",
       "      <th>8</th>\n",
       "      <td>57577.836653</td>\n",
       "      <td>1988.5</td>\n",
       "    </tr>\n",
       "    <tr>\n",
       "      <th>9</th>\n",
       "      <td>53150.388446</td>\n",
       "      <td>1988.5</td>\n",
       "    </tr>\n",
       "    <tr>\n",
       "      <th>10</th>\n",
       "      <td>55514.668663</td>\n",
       "      <td>1988.5</td>\n",
       "    </tr>\n",
       "    <tr>\n",
       "      <th>11</th>\n",
       "      <td>55295.302789</td>\n",
       "      <td>1988.5</td>\n",
       "    </tr>\n",
       "    <tr>\n",
       "      <th>12</th>\n",
       "      <td>63531.129482</td>\n",
       "      <td>1988.5</td>\n",
       "    </tr>\n",
       "  </tbody>\n",
       "</table>\n",
       "</div>"
      ],
      "text/plain": [
       "              value    year\n",
       "month                      \n",
       "1      54484.202729  1989.0\n",
       "2      52060.263158  1989.0\n",
       "3      56602.124756  1989.0\n",
       "4      51791.027888  1988.5\n",
       "5      50962.653386  1988.5\n",
       "6      57080.749004  1988.5\n",
       "7      57530.515936  1988.5\n",
       "8      57577.836653  1988.5\n",
       "9      53150.388446  1988.5\n",
       "10     55514.668663  1988.5\n",
       "11     55295.302789  1988.5\n",
       "12     63531.129482  1988.5"
      ]
     },
     "execution_count": 54,
     "metadata": {},
     "output_type": "execute_result"
    }
   ],
   "source": [
    "passengers.groupby(\"month\").mean()"
   ]
  },
  {
   "cell_type": "markdown",
   "metadata": {},
   "source": [
    "### Sort descending by value"
   ]
  },
  {
   "cell_type": "code",
   "execution_count": 55,
   "metadata": {},
   "outputs": [
    {
     "data": {
      "text/plain": [
       "month\n",
       "12    63531.129482\n",
       "8     57577.836653\n",
       "7     57530.515936\n",
       "6     57080.749004\n",
       "3     56602.124756\n",
       "10    55514.668663\n",
       "11    55295.302789\n",
       "1     54484.202729\n",
       "9     53150.388446\n",
       "2     52060.263158\n",
       "4     51791.027888\n",
       "5     50962.653386\n",
       "Name: value, dtype: float64"
      ]
     },
     "execution_count": 55,
     "metadata": {},
     "output_type": "execute_result"
    }
   ],
   "source": [
    "passengers.groupby(\"month\")[\"value\"].mean().sort_values(ascending=False)"
   ]
  },
  {
   "cell_type": "markdown",
   "metadata": {
    "focus": true,
    "id": "a51cdd68-c291-46ae-9bf5-ed4f0819f161",
    "slideshow": {
     "slide_type": "slide"
    }
   },
   "source": [
    "# Next Steps\n",
    "\n",
    "**Recommended Resources**\n",
    "\n",
    "Name | Description\n",
    "--- | ---\n",
    "[Official Pandas Tutorials](http://pandas.pydata.org/pandas-docs/stable/10min.html) | Wes & Company's selection of tutorials and lectures\n",
    "[Julia Evans Pandas Cookbook](https://github.com/jvns/pandas-cookbook) | Great resource with examples from weather, bikes and 311 calls\n",
    "[Learn Pandas Tutorials](https://bitbucket.org/hrojas/learn-pandas) | A great series of Pandas tutorials from Dave Rojas\n",
    "[Research Computing Python Data PYNBs](https://github.com/ResearchComputing/Meetup-Fall-2013/tree/master/python) | A super awesome set of python notebooks from a meetup-based course exclusively devoted to pandas"
   ]
  }
 ],
 "metadata": {
  "anaconda-cloud": {},
  "kernelspec": {
   "display_name": "Python 3",
   "language": "python",
   "name": "python3"
  },
  "language_info": {
   "codemirror_mode": {
    "name": "ipython",
    "version": 3
   },
   "file_extension": ".py",
   "mimetype": "text/x-python",
   "name": "python",
   "nbconvert_exporter": "python",
   "pygments_lexer": "ipython3",
   "version": "3.6.5"
  }
 },
 "nbformat": 4,
 "nbformat_minor": 2
}
