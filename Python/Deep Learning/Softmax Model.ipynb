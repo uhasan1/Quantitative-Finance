{
 "cells": [
  {
   "cell_type": "markdown",
   "metadata": {
    "colab_type": "text",
    "id": "wHGfSK1U89m-"
   },
   "source": [
    "# Week One Part 2: Softmax\n",
    "Softmax classifier is a generalization of logisitic regression that normalize a K-dimensional vector $z$ of arbitrary real values to a K-dimensional probabilistic scores.\n",
    "Here, we are going to reuse Iris dataset. And we use the whole 3 types of iris plants and all these four attributes. petal length and width. Here are the data visually:"
   ]
  },
  {
   "cell_type": "code",
   "execution_count": 0,
   "metadata": {
    "colab": {},
    "colab_type": "code",
    "id": "CzSomdSr89m_",
    "outputId": "27bef4cc-8c7d-4f43-e4a6-a813ea9d1300"
   },
   "outputs": [
    {
     "data": {
      "image/png": "[encoded data removed]",
      "text/plain": [
       "<matplotlib.figure.Figure at 0x1130b9910>"
      ]
     },
     "metadata": {
      "tags": []
     },
     "output_type": "display_data"
    }
   ],
   "source": [
    "from sklearn import datasets\n",
    "import matplotlib.pyplot as plt\n",
    "import seaborn as sns\n",
    "%matplotlib inline\n",
    "sns.set(style='ticks', palette='Set2')\n",
    "import pandas as pd\n",
    "import numpy as np\n",
    "import math\n",
    "from __future__ import division\n",
    "\n",
    "data = datasets.load_iris()\n",
    "X = data.data# only get the first 2 features\n",
    "y = data.target\n",
    "setosa = plt.scatter(X[:50,0], X[:50,1], c='b')\n",
    "versicolor = plt.scatter(X[50:100,0], X[50:100,1], c='r')\n",
    "virginica = plt.scatter(X[100:,0], X[100:,1], c='g')\n",
    "plt.xlabel(\"Sepal Length\")\n",
    "plt.ylabel(\"Sepal Width\")\n",
    "plt.legend((setosa, versicolor, virginica), (\"Setosa\", \"Versicolor\", \"Virginica\"))\n",
    "sns.despine() # remove the abvoe axis"
   ]
  },
  {
   "cell_type": "markdown",
   "metadata": {
    "colab_type": "text",
    "id": "HwOnaxTL89nF"
   },
   "source": [
    "Assume we have one data sample $\\mathbf{x}$, the output of softmax classifier is \n",
    "\n",
    "$$ P(y=j| \\mathbf{x}) = \\frac{e^{\\mathbf{x}\\mathbf{w}_j + b_j} }{\\sum_{k=1}^{K}e^{\\mathbf{x}\\mathbf{w}_k+ b_k}}  $$\n",
    "where $\\mathbf{x} \\in 1{\\times}d$. \n",
    "\n",
    "Practical issues: Numeric Stability\n",
    "When you’re writing code for computing the Softmax function in practice, the intermediate terms may be very large due to exponentials. Dividing large numbers can be numerically unstable, so it is important to use a normalization trick. Notice that if we multiply the top and bottom of the fraction by a constant $C$ and push it into the sum, we get the following (mathematically equivalent) expression:\n",
    "$$\\frac{e^{\\mathbf{x}\\mathbf{w}_j+ b_j}}{\\sum_{k=1}^{K}e^{\\mathbf{x}\\mathbf{w}_k+ b_k}}=\\frac{Ce^{\\mathbf{x}\\mathbf{w}_j+ b_j}}{C\\sum_{k=1}^{K}e^{\\mathbf{x}\\mathbf{w}_k+ b_k}}=\\frac{e^{\\mathbf{x}\\mathbf{w}_j+ b_j+logC}}{\\sum_{k=1}^{K}e^{\\mathbf{x}\\mathbf{w}_k+ b_k+logC}}$$\n",
    "\n",
    "Here, $logC=-max_j{\\mathbf{x}\\mathbf{w}_j+ b_j}$. which make the highet value after linear transformation as zero."
   ]
  },
  {
   "cell_type": "markdown",
   "metadata": {
    "colab_type": "text",
    "id": "jLh3dz5N89nG"
   },
   "source": [
    "Similar to the logistic regression model, \n",
    "the **loss function** is set to be cross-entropy error:\n",
    "1. LR: $−(ylog(p)+(1−y)log(1−p))$\n",
    "2. Softmax: $-\\sum_{k=1}^{K}y_klog(P(y=k| \\mathbf{x}))$\n",
    "\n",
    "Here, $y_k$ is the binary indicator if class label k is the correct classification."
   ]
  },
  {
   "cell_type": "code",
   "execution_count": 0,
   "metadata": {
    "colab": {},
    "colab_type": "code",
    "collapsed": true,
    "id": "oCz92PEl89nH"
   },
   "outputs": [],
   "source": [
    "def softmax(W, b, X):\n",
    "    \"\"\" the implmentation of softmax function\n",
    "    - W, b are the model parameters\n",
    "    - X is the feature matrix\n",
    "    \"\"\"\n",
    "    z = np.dot(X,W) + b\n",
    "    z -= np.max(z)\n",
    "    sm = (np.exp(z).T / np.sum(np.exp(z),axis=1)).T\n",
    "    return sm\n",
    "\n",
    "def cost_func(W, b, X, y):\n",
    "    \"\"\"the implmentation of cost function for softmax classifier\n",
    "    - beta is the model parameters\n",
    "    - x is the feature matrix （num sample times the number of features)\n",
    "    - y is the label vector (num sample)\n",
    "    \"\"\"\n",
    "    num_examples = X.shape[0]\n",
    "    probs = softmax(W, b, X)\n",
    "    correct_logprobs = -np.log(probs[range(num_examples),y])\n",
    "    data_loss = np.sum(correct_logprobs)/num_examples\n",
    "    return np.mean(data_loss)"
   ]
  },
  {
   "cell_type": "markdown",
   "metadata": {
    "colab_type": "text",
    "id": "gjAjIXi_89nJ"
   },
   "source": [
    "##### Model Parameters\n",
    "\n",
    "$$ \\mathbf{z} = \\mathbf{x}\\mathbf{W} + \\mathbf{b}$$"
   ]
  },
  {
   "cell_type": "code",
   "execution_count": 0,
   "metadata": {
    "colab": {},
    "colab_type": "code",
    "collapsed": true,
    "id": "eP12JXiQ89nL"
   },
   "outputs": [],
   "source": [
    "W = 0.01 * np.random.randn(4,3)\n",
    "b = 0.01 * np.random.randn(1,3) #np.zeros((1,3))"
   ]
  },
  {
   "cell_type": "code",
   "execution_count": 0,
   "metadata": {
    "colab": {},
    "colab_type": "code",
    "collapsed": true,
    "id": "Uo9iLdoW89nN"
   },
   "outputs": [],
   "source": [
    "X = (X - np.mean(X, axis=0)) / np.std(X, axis=0)"
   ]
  },
  {
   "cell_type": "code",
   "execution_count": 0,
   "metadata": {
    "colab": {},
    "colab_type": "code",
    "id": "JlqOVtER89nP",
    "outputId": "4d9b5cf2-f006-4d4d-af16-beb62a0a59e7"
   },
   "outputs": [
    {
     "data": {
      "text/plain": [
       "array([[ 0.33529497,  0.33201049,  0.33269454],\n",
       "       [ 0.33274942,  0.33175544,  0.33549514]])"
      ]
     },
     "execution_count": 5,
     "metadata": {
      "tags": []
     },
     "output_type": "execute_result"
    }
   ],
   "source": [
    "softmax(W, b, X[:2,:])"
   ]
  },
  {
   "cell_type": "code",
   "execution_count": 0,
   "metadata": {
    "colab": {},
    "colab_type": "code",
    "id": "gdwM9jTb89nT",
    "outputId": "0b9847ad-9ad3-4443-d6c2-86a25b0fa001"
   },
   "outputs": [
    {
     "data": {
      "text/plain": [
       "1.0945094319038682"
      ]
     },
     "execution_count": 6,
     "metadata": {
      "tags": []
     },
     "output_type": "execute_result"
    }
   ],
   "source": [
    "cost_func(W,b,X,y)"
   ]
  },
  {
   "cell_type": "markdown",
   "metadata": {
    "colab_type": "text",
    "id": "aImOd8r489nW"
   },
   "source": [
    "###### some equations\n",
    "$$\\frac{d}{dx}log(x) = \\frac{1}{x}$$\n",
    "$$\\frac{d}{dx}e^{x} = e^{x}$$\n",
    "###### quotient rule\n",
    "$$f^{,}(x)=\\frac{g^{,}(x)h(x)-g(x)h^{,}(x)}{h(x)^2}$$\n",
    "when $f(x)=\\frac{g(x)}{h(x)}$\n",
    "#### Gradient Computation\n",
    "\n",
    "The loss function:\n",
    "$$l(W,b) = - log\\frac{e^{z_i}}{\\sum_{k=1}^{K}e^{z_j}} \n",
    "         = - logp_i$$\n",
    "where $z_j=xw_j+b$\n",
    "The key issue to get $\\frac{dl}{dz_j}=\\frac{dl}{dp_i}\\frac{dp_i}{dz_j}$\n",
    "\n",
    "The first part is simple:\n",
    "$$\\frac{dl}{dp_i} = -\\frac{1}{p_i} $$\n",
    "\n",
    "The second part is $\\frac{dp_i}{dz_j}$. there are two cases:\n",
    "\n",
    "if $i=j$, \n",
    "$$\\frac{dp_i}{dz_j} = \\frac{e^{z_i}\\sum-e^{z_i}e^{z_j}}{\\sum^2} = \\frac{e^{z_i}(\\sum - e^{z_j})}{\\sum^2} = p_i(1-p_j) $$\n",
    "\n",
    "$$ \\frac{dl}{dz_j} = p_j - 1 $$\n",
    "if $i!=j$\n",
    "$$\\frac{dp_i}{dz_j} = \\frac{0-e^{z_i}e^{z_j}}{\\sum^2} = -p_ip_j $$\n",
    "\n",
    "$$ \\frac{dl}{dz_j} = p_j $$\n",
    "\n",
    "$\\frac{dl}{dW}$ and $\\frac{dl}{db}$ then can be computed"
   ]
  },
  {
   "cell_type": "code",
   "execution_count": 0,
   "metadata": {
    "colab": {},
    "colab_type": "code",
    "collapsed": true,
    "id": "g5vLhJUF89nX"
   },
   "outputs": [],
   "source": [
    "def softmax_gradient(W,b, X,y):\n",
    "    num_examples = X.shape[0]\n",
    "    #z_scores = np.dot(X,W) + b\n",
    "    probs = softmax(W, b, X)    \n",
    "    probs[range(num_examples),y] -= 1 #if i == j, minus 1\n",
    "    probs /= num_examples\n",
    "    dW = np.dot(X.T, probs)\n",
    "    db = np.sum(probs, axis=0, keepdims=True)\n",
    "    return dW, db"
   ]
  },
  {
   "cell_type": "code",
   "execution_count": 0,
   "metadata": {
    "colab": {},
    "colab_type": "code",
    "collapsed": true,
    "id": "_CekLSJA89nZ"
   },
   "outputs": [],
   "source": [
    "def grad_desc(W,b, X, y, lr=.001, converge_change=.00005):\n",
    "    #normalize\n",
    "    #X = (X - np.mean(X, axis=0)) / np.std(X, axis=0)\n",
    "    #setup cost iter\n",
    "    cost_iter = []\n",
    "    cost = cost_func(W,b, X, y)\n",
    "    cost_iter.append([0, cost])\n",
    "    change_cost = 1\n",
    "    i = 1\n",
    "    while(change_cost > converge_change):\n",
    "        old_cost = cost\n",
    "        dW, db = softmax_gradient(W,b,X,y)\n",
    "        W = W - lr * dW\n",
    "        b = b - lr * db\n",
    "        cost = cost_func(W, b, X, y)\n",
    "        cost_iter.append([i, cost])\n",
    "        change_cost = old_cost - cost\n",
    "        i+=1\n",
    "    return W, b, np.array(cost_iter)\n",
    "\n",
    "def pred_values(W, b, X,hard=True):\n",
    "    z_scores = np.dot(X,W) + b\n",
    "    probs = softmax(z_scores)\n",
    "    if hard:\n",
    "        predicted_class = np.argmax(probs, axis=1)\n",
    "        return predicted_class\n",
    "    return probs"
   ]
  },
  {
   "cell_type": "code",
   "execution_count": 0,
   "metadata": {
    "colab": {},
    "colab_type": "code",
    "collapsed": true,
    "id": "p_qExpO189nc"
   },
   "outputs": [],
   "source": [
    "W = 0.001 * np.random.randn(4,3)\n",
    "b = np.zeros((1,3))\n",
    "W, b, cost_iter = grad_desc(W,b, X, y, lr=0.01)"
   ]
  },
  {
   "cell_type": "code",
   "execution_count": 0,
   "metadata": {
    "colab": {},
    "colab_type": "code",
    "id": "9vYBLHEf89ne",
    "outputId": "d5f4fbb8-2e72-4a93-c929-825a116f7504"
   },
   "outputs": [
    {
     "data": {
      "image/png": "[encoded data removed]",
      "text/plain": [
       "<matplotlib.figure.Figure at 0x1164e00d0>"
      ]
     },
     "metadata": {
      "tags": []
     },
     "output_type": "display_data"
    }
   ],
   "source": [
    "plt.plot(cost_iter[:,0], cost_iter[:,1])\n",
    "plt.ylabel(\"Cost\")\n",
    "plt.xlabel(\"Iteration\")\n",
    "sns.despine()"
   ]
  },
  {
   "cell_type": "code",
   "execution_count": 0,
   "metadata": {
    "colab": {},
    "colab_type": "code",
    "collapsed": true,
    "id": "D7C5M95d89nh"
   },
   "outputs": [],
   "source": [
    "hh = pred_values(W,b,X,y)"
   ]
  },
  {
   "cell_type": "code",
   "execution_count": 0,
   "metadata": {
    "colab": {},
    "colab_type": "code",
    "id": "G2wW75BA89nk",
    "outputId": "b2716ad4-962c-41ee-f21b-577316d9b4ab"
   },
   "outputs": [
    {
     "data": {
      "text/plain": [
       "138"
      ]
     },
     "execution_count": 60,
     "metadata": {
      "tags": []
     },
     "output_type": "execute_result"
    }
   ],
   "source": [
    "np.sum(hh == y)"
   ]
  },
  {
   "cell_type": "code",
   "execution_count": 0,
   "metadata": {
    "colab": {},
    "colab_type": "code",
    "id": "rUiKEq2v89nn",
    "outputId": "d869aa3d-9e5b-440b-d5ae-03bb58433e5c"
   },
   "outputs": [
    {
     "data": {
      "text/plain": [
       "146"
      ]
     },
     "execution_count": 62,
     "metadata": {
      "tags": []
     },
     "output_type": "execute_result"
    }
   ],
   "source": [
    "from sklearn import linear_model\n",
    "logreg = linear_model.LogisticRegression(multi_class='multinomial', solver='newton-cg')\n",
    "logreg.fit(X, y)\n",
    "sum(y == logreg.predict(X))"
   ]
  }
 ],
 "metadata": {
  "colab": {
   "name": "Softmax Model.ipynb",
   "provenance": [],
   "version": "0.3.2"
  },
  "kernelspec": {
   "display_name": "Python 2",
   "language": "python",
   "name": "python2"
  },
  "language_info": {
   "codemirror_mode": {
    "name": "ipython",
    "version": 2
   },
   "file_extension": ".py",
   "mimetype": "text/x-python",
   "name": "python",
   "nbconvert_exporter": "python",
   "pygments_lexer": "ipython2",
   "version": "2.7.13"
  }
 },
 "nbformat": 4,
 "nbformat_minor": 1
}
