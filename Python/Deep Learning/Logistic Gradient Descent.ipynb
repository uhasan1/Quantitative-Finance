{
 "cells": [
  {
   "cell_type": "markdown",
   "metadata": {
    "colab_type": "text",
    "id": "67e3WtR4mX6J"
   },
   "source": [
    "# Week One Part One: Logistic Regression\n",
    "\n",
    "In this notebook, we will go through the technical details behind Logistic Regression model, which is a binary classification model. The dataset used is [Iris dataset](https://archive.ics.uci.edu/ml/datasets/Iris). The iris dataset contains 4 attributes for 3 types of iris flowers. The purpose is to classify which flowers you have just based on the attributes. To simplify things, we will only consider 2 attributes and 2 classes:"
   ]
  },
  {
   "cell_type": "code",
   "execution_count": 8,
   "metadata": {
    "colab": {},
    "colab_type": "code",
    "id": "ZpyKEBXbmX6L",
    "outputId": "cf36ffcb-c252-41b1-a3df-cac33de0f7a8"
   },
   "outputs": [
    {
     "data": {
      "image/png": "[encoded data removed]",
      "text/plain": [
       "<Figure size 432x288 with 1 Axes>"
      ]
     },
     "metadata": {},
     "output_type": "display_data"
    }
   ],
   "source": [
    "from __future__ import division\n",
    "from sklearn import datasets\n",
    "import matplotlib.pyplot as plt\n",
    "import seaborn as sns\n",
    "%matplotlib inline\n",
    "sns.set(style='ticks', palette='Set2')\n",
    "import pandas as pd\n",
    "import numpy as np\n",
    "import math\n",
    "\n",
    "data = datasets.load_iris()\n",
    "X = data.data[:100, :2]  # only get the first 2 flowers and 2 features\n",
    "y = data.target[:100]\n",
    "X_full = data.data[:100, :]\n",
    "\n",
    "setosa = plt.scatter(X[:50,0], X[:50,1], c='b')\n",
    "versicolor = plt.scatter(X[50:,0], X[50:,1], c='r')\n",
    "plt.xlabel(\"Sepal Length\")\n",
    "plt.ylabel(\"Sepal Width\")\n",
    "plt.legend((setosa, versicolor), (\"Setosa\", \"Versicolor\"))\n",
    "sns.despine() # remove the above axis"
   ]
  },
  {
   "cell_type": "markdown",
   "metadata": {
    "colab_type": "text",
    "id": "nkLkzlbQmX6Q"
   },
   "source": [
    "As shown in the above figure, these two class are well-separated. Thus, one line is going to classify these data  $$z = \\beta_{0} + \\beta_{1}x_{sw} + \\beta_{2}x_{sl} = \\beta \\cdot x $$ where $\\beta=[\\beta_{0},\\beta_{1},\\beta_{2}]$ and $x=[1,x_{sw},x_{sl}]$.\n",
    "\n",
    "However, $z$ could be infinitely positive or negative given the Sepal Width (SW) and Sepal Length (SL) $x_{sw}$ and $x_{sl}$. To transform the output into a probabilistic score, we can use sigmoid function.\n",
    "#### Sigmoid Function\n",
    "\n",
    "The sigmoid is given: $$h = \\frac{1}{1 + e^{-z}}$$ The output will be limited in the range $[0, 1]$."
   ]
  },
  {
   "cell_type": "code",
   "execution_count": 9,
   "metadata": {
    "colab": {},
    "colab_type": "code",
    "id": "ttWiyaJ1mX6R",
    "outputId": "382b7c6c-9018-4c98-e015-4eaa88cdd1a2"
   },
   "outputs": [
    {
     "data": {
      "image/png": "[encoded data removed]",
      "text/plain": [
       "<Figure size 432x288 with 1 Axes>"
      ]
     },
     "metadata": {},
     "output_type": "display_data"
    }
   ],
   "source": [
    "## Display generic plot of sigmoid function ##\n",
    "x_values = np.linspace(-8, 8, 400)\n",
    "y_values = [1 / (1 + math.e**(-x)) for x in x_values]\n",
    "plt.plot(x_values, y_values)\n",
    "# Add a horizontal line at y = 0.5\n",
    "plt.axhline(.5)\n",
    "# Add a vertical line at x = 0\n",
    "plt.axvline(0)\n",
    "sns.despine()"
   ]
  },
  {
   "cell_type": "markdown",
   "metadata": {
    "colab_type": "text",
    "id": "u_kFCH1vmX6U"
   },
   "source": [
    "As shown in the above figure, the $y$ is scaled into the range from 0 to 1. And intuitively the positive $z$ will make the output larger than 0.5 and the negative $z$ will make the output smaller than 0.5. \n",
    "\n",
    "## Machine learning model\n",
    "\n",
    "Machine Learning = Representation + Target/Loss + Optimization\n",
    "\n",
    "Now, the data contains two attributes sepal width and sepal length $x_{sw}$ and $x_{sl}$. The model used is the logistic regression model. We assume that Setosa correspond to $y=1$ and Versicolor correspond to $y=0$.\n",
    "\n",
    "\n",
    "### Loss\n",
    "\n",
    "Recall: $ \\prod $ is product of all the terms e.g. $$ \\prod_{i=1}^{3} = (1)(2)(3) $$ while $ \\sum $ is the sum of all terms e.g. $$ \\sum_{i=1}^{3} = 1 + 2 + 3 $$\n",
    "\n",
    "The intuitive idea is given N samples, we are going to maximize the probability that our data is classified correctly $$ \\prod_{y_i=1}h_{\\beta}\\prod_{y_i=0}(1-h_{\\beta}) $$\n",
    "Here, $h_{\\beta}$ is the probability that the data is setosa ($y=1$) and $1-h_{\\beta}$ is the probability that the data belong to versicolor ($y=0$). \n",
    "\n",
    "We can apply log over the input and put a negative sign, then we can get the cost function\n",
    "$$ - log(\\prod_{y_i=1}h_{\\beta}\\prod_{y_i=0}(1-h_{\\beta})) = \\\\\n",
    "   -(\\sum_{y_i=1}log(h_{\\beta})+\\sum_{y_i=0}(log(1-h_{\\beta})) = \\\\\n",
    "    -\\sum_{i=1}^{N}(y_{i}log(h_{\\beta}(x_{i})) + (1-y_{i})log(1-h_{\\beta}(x_{i})))$$\n",
    "\n",
    "\n",
    "Why log function: \n",
    "\n",
    "* After log, sum operation is more intuitive\n",
    "* Log function as smooth montonic functions make optimization easy\n",
    "* The cost function penalized confident and wrong predictions more than it rewards confident and right prediction\n",
    "\n",
    "\n",
    "This loss function is actually the cross-entropy error. \n"
   ]
  },
  {
   "cell_type": "code",
   "execution_count": 10,
   "metadata": {
    "colab": {},
    "colab_type": "code",
    "id": "tGxexUlBmX6X"
   },
   "outputs": [],
   "source": [
    "def logistic_func(beta, x):\n",
    "    \"\"\"the implmentation of logistic function\n",
    "    - beta is the model parameters\n",
    "    - x is the feature matrix （num sample times the number of features)\n",
    "    \"\"\"\n",
    "    # the inclusion of float is to return the answer in float, else it will return as integer\n",
    "    return float(1) / (1 + math.e**(-x.dot(beta))) \n",
    "def cost_func(beta, x, y):\n",
    "    \"\"\"the implmentation of cost function\n",
    "    - beta is the model parameters\n",
    "    - x is the feature matrix （num sample times the number of features)\n",
    "    - y is the label vector (num sample)\n",
    "    \"\"\"\n",
    "    log_func_v = logistic_func(beta,x)\n",
    "    # Remove single dimensional entries from the shape of an array\n",
    "    y = np.squeeze(y)\n",
    "    step1 = y * np.log(log_func_v)\n",
    "    step2 = (1-y) * np.log(1 - log_func_v)\n",
    "    final = -step1 - step2\n",
    "    return np.mean(final)"
   ]
  },
  {
   "cell_type": "code",
   "execution_count": 13,
   "metadata": {
    "colab": {},
    "colab_type": "code",
    "id": "SCMLM4X6mX6a"
   },
   "outputs": [
    {
     "name": "stdout",
     "output_type": "stream",
     "text": [
      "(100, 2)\n"
     ]
    }
   ],
   "source": [
    "# Find z scores #\n",
    "X = (X - np.mean(X, axis=0)) / np.std(X, axis=0)\n",
    "print(X.shape)"
   ]
  },
  {
   "cell_type": "code",
   "execution_count": 17,
   "metadata": {},
   "outputs": [
    {
     "data": {
      "text/plain": [
       "array([0., 0.])"
      ]
     },
     "execution_count": 17,
     "metadata": {},
     "output_type": "execute_result"
    }
   ],
   "source": [
    "np.zeros(2)"
   ]
  },
  {
   "cell_type": "code",
   "execution_count": 18,
   "metadata": {
    "colab": {},
    "colab_type": "code",
    "id": "k1sR_vETmX6d"
   },
   "outputs": [],
   "source": [
    "# hstack stacks arrays in sequence horizontally (column wise) #\n",
    "# e.g. np.hstack((np.array([1,2,3]),np.array([2,3,4]))) = np.array([1,2,3,2,3,4])\n",
    "# e.g. np.hstack((np.array([[1],[2],[3]]),np.array([[2],[3],[4]]))) = np.array([[1,2],[2,3],[3,4]])\n",
    "\n",
    "# We create an array of ones because the first term in the linear regression is the constant term\n",
    "X_new = np.hstack((np.ones((X.shape[0], 1)), X))"
   ]
  },
  {
   "cell_type": "code",
   "execution_count": 19,
   "metadata": {
    "colab": {},
    "colab_type": "code",
    "id": "tQDOwzHPmX6g",
    "outputId": "cf0fee10-45d3-4359-cc42-f6440363e706"
   },
   "outputs": [
    {
     "name": "stdout",
     "output_type": "stream",
     "text": [
      "under betas: 0.0 0.0 0.0\n",
      "the loss is 0.6931471805599453\n",
      "under betas: 0.0 -1.0 1.4\n",
      "the loss is 0.21224814447698975\n"
     ]
    }
   ],
   "source": [
    "shape = X_new.shape[1]\n",
    "y_flip = np.logical_not(y) #flip Setosa to be 1 and Versicolor to zero to be consistent\n",
    "betas = np.zeros(shape)\n",
    "print('under betas: {} {} {}'.format(betas[0], betas[1], betas[2]))\n",
    "print('the loss is {}'.format(cost_func(betas, X_new, y_flip)))\n",
    "## Choose different Beta parameters (Refer to optimization writeup below ##\n",
    "betas = np.array([0, -1,  1.4])\n",
    "print('under betas: {} {} {}'.format(betas[0], betas[1], betas[2]))\n",
    "print('the loss is {}'.format(cost_func(betas, X_new, y_flip)))"
   ]
  },
  {
   "cell_type": "markdown",
   "metadata": {
    "colab_type": "text",
    "id": "ByrsVeu9mX6k"
   },
   "source": [
    "### Optimization\n",
    "The goal of optimization is to find best parameters $\\beta$ that minimize the loss function.\n",
    "\n",
    "**Gradient descent function** is the optimization method that update the model parameters in the direction of descent function of loss function. \n",
    "So now that we have our gradients, we can use the gradient descent algorithm to find the values for our $\\beta$s that minimize our cost function. The gradient descent algorithm is very simple:\n",
    "* Initially guess any values for your $\\beta$ values\n",
    "* Repeat until converge:\n",
    "    * $\\beta_{i} = \\beta_{i} - (\\alpha *$ gradient with respect to $\\beta_{i})$ for $i = 0, 1, 2$ in our case\n",
    "\n",
    "Here $\\alpha$ is our learning rate. Basically how large of steps to take on our cost curve. What we are doing is taking our current $\\beta$ value and then subtracting some fraction of the gradient. We subtract because the gradient is the direction of greatest increase, but we want the direction of greatest decrease, so we subtract. In other words, we pick a random point on our cost curve, check to see which direction we need to go to get closer to the minimum by using the negative of the gradient, and then update our $\\beta$ values to move closer to the minimum. Repeat until converge means keep updating our $\\beta$ values until our cost value converges - or stops decreasing - meaning we have reached the minimum. Also, it is important to update all the $\\beta$ values at the same time. Meaning that you use the same previous $\\beta$ values to update all the next $\\beta$ values.\n",
    "\n",
    "\n",
    "The key issue is finding the gradient.\n",
    "\n",
    "* slope: the rate of change of the function\n",
    "\n",
    "$$ \\frac{df(x)}{dx} = lim_{h \\to 0}\\frac{f(x+h) - f(x)}{h}  $$\n",
    "* gradient: the generalization of slope for functions that take a vector of numbers. It will be a vector of slopes (partial derivates) for each dimension in the input space\n",
    "\n",
    "Here, we are going to explore two ways to compute gradient. \n",
    "\n",
    "1. *numerical gradient*: slow, approximate but easy\n",
    "2. *analytic gradient*: fast, exact but hard to find\n",
    "\n",
    "##### numerical gradient"
   ]
  },
  {
   "cell_type": "code",
   "execution_count": 7,
   "metadata": {
    "colab": {},
    "colab_type": "code",
    "collapsed": true,
    "id": "XMPXvg0DmX6k"
   },
   "outputs": [],
   "source": [
    "def eval_numerical_gradient(f, x):\n",
    "    \"\"\" \n",
    "    a naive implementation of numerical gradient of f at x \n",
    "    - f should be a function that takes a single argument\n",
    "    - x is the point (numpy array) to evaluate the gradient at\n",
    "    \"\"\" \n",
    "\n",
    "    fx = f(x) # evaluate function value at original point\n",
    "    grad = np.zeros(x.shape)\n",
    "    h = 0.0001\n",
    "\n",
    "    # iterate over all indexes in x\n",
    "    it = np.nditer(x, flags=['multi_index'], op_flags=['readwrite'])\n",
    "    while not it.finished:\n",
    "\n",
    "    # evaluate function at x+h\n",
    "        ix = it.multi_index\n",
    "        old_value = x[ix]\n",
    "        x[ix] = old_value + h # increment by h\n",
    "        fxh = f(x) # evalute f(x + h)\n",
    "        x[ix] = old_value # restore to previous value (very important!)\n",
    "\n",
    "        # compute the partial derivative\n",
    "        grad[ix] = (fxh - fx) / h # the slope\n",
    "        it.iternext() # step to next dimension\n",
    "    return grad"
   ]
  },
  {
   "cell_type": "code",
   "execution_count": 8,
   "metadata": {
    "colab": {},
    "colab_type": "code",
    "collapsed": true,
    "id": "Du1giqhymX6o"
   },
   "outputs": [],
   "source": [
    "loss_flower = lambda beta: cost_func(beta, X_new, y_flip)"
   ]
  },
  {
   "cell_type": "code",
   "execution_count": 9,
   "metadata": {
    "colab": {},
    "colab_type": "code",
    "id": "qsTy2HmtmX6q",
    "outputId": "1f23558d-ae02-453b-9284-28a428f83586"
   },
   "outputs": [
    {
     "name": "stdout",
     "output_type": "stream",
     "text": [
      "[ 0.00192251  0.12688958 -0.06647031]\n"
     ]
    }
   ],
   "source": [
    "df = eval_numerical_gradient(loss_flower, betas)\n",
    "print(df)"
   ]
  },
  {
   "cell_type": "markdown",
   "metadata": {
    "colab_type": "text",
    "id": "ILlZ-b8qmX6v"
   },
   "source": [
    "##### analytic gradient"
   ]
  },
  {
   "cell_type": "markdown",
   "metadata": {
    "colab_type": "text",
    "id": "nw3t2phymX6v"
   },
   "source": [
    "Here, we are going to do some math. The cost function as:\n",
    "\n",
    "$$-\\sum_{i=1}^{100}y_{i}log(h(x_{i})) + (1-y_{i})log(1-h(x_{i}))$$\n",
    "\n",
    "We need to get the derivative for the model parameters $\\beta$ for the above function. Here, we will adopt the chain rule：a formula for computing the derivative of the composition of two or more functions.\n",
    "\n",
    "$$ \\frac{dz}{dx} = \\frac{dz}{dy}\\frac{dy}{dx} $$\n",
    "where $ z=f(y)$ and $y=f(x)$. Then, we use chain rule. For simplicity, we ingore the negative symbol firstly and focus on one data sample, i.e., $$ L= y_{i}log(h(x_{i})) + (1-y_{i})log(1-h(x_{i}) $$ \n",
    "\n",
    "1. first, using the derivate of log(x) is $\\frac{1}{x}$: we can get:\n",
    "$$ \\frac{df}{dh} = = \\frac{y_{i}}{h(x_{i})} - \\frac{1-y_{i}}{1-h(x_{i})} $$\n",
    "2. then, we would like to get $\\frac{dh}{dz}$ and remember $h = \\frac{1}{1 + e^{-z}}$. We can use the quotient rule:\n",
    "$$ \\left[\\frac{f(x)}{g(x)}\\right]'=\\frac{g(x)f'(x)-f(x)g'(x)}{[g(x)]^2} $$\n",
    "Refer to the above rule:\n",
    "$$ \\frac{dh}{dz}= \\frac{e^{-z}}{(1+e^{-z})^{2}} = \\frac{1}{1+e^{-z}}(1 - \\frac{1}{1+e^{-z}}) = h(x_{i})(1-h(x_{i}))$$ \n",
    "\n",
    "3. at last, we only neet to get $\\frac{dz}{d{\\beta}}$ and remember $z = \\beta \\cdot x$. It is easy:\n",
    "$$ \\frac{dz}{d{\\beta}} = x_i $$\n",
    "4. Finally, we can get:\n",
    "$$ \\frac{df}{d{\\beta}} = \\frac{df}{dh}\\frac{dh}{d{z}}\\frac{dz}{d{\\beta}} $$\n",
    "$$\\frac{df}{dh}\\frac{dh}{d{z}} = y_{i}(1-h(x_{i})) - (1 - y_{i})h(x_{i}) = y_{i}-y_{i}h(x_{i}) - h(x_{i})+y_{i}h(x_{i}) = y_{i} - h(x_{i})$$\n",
    "$$ \\frac{df}{d{\\beta}} = (y_{i} - h(x_{i}))x_i $$\n",
    "\n",
    "**Do not forget the negative and summation operation**, we can get the final gradient:\n",
    "\n",
    "$$ \\frac{df}{d{\\beta}} = \\sum_{i=1}^{100}(h(x_{i})-y_i)x_i $$"
   ]
  },
  {
   "cell_type": "code",
   "execution_count": 10,
   "metadata": {
    "colab": {},
    "colab_type": "code",
    "collapsed": true,
    "id": "qVYtrmDmmX6x"
   },
   "outputs": [],
   "source": [
    "def log_gradient(theta, x, y):\n",
    "    first_calc = logistic_func(theta, x) - np.squeeze(y)\n",
    "    final_calc = first_calc.T.dot(x)\n",
    "    return final_calc"
   ]
  },
  {
   "cell_type": "code",
   "execution_count": 11,
   "metadata": {
    "colab": {},
    "colab_type": "code",
    "id": "tjgQxxSwmX60",
    "outputId": "964a06d2-cff1-459d-aac2-17323cc72977",
    "scrolled": true
   },
   "outputs": [
    {
     "data": {
      "text/plain": [
       "array([  0.19156854,  12.68834472,  -6.64747468])"
      ]
     },
     "execution_count": 11,
     "metadata": {},
     "output_type": "execute_result"
    }
   ],
   "source": [
    "log_gradient(betas, X_new, y_flip)"
   ]
  },
  {
   "cell_type": "markdown",
   "metadata": {
    "colab_type": "text",
    "collapsed": true,
    "id": "tP0RAC0mmX64"
   },
   "source": [
    "Then, we have two methods to compute the gradient. One practical rule is that *we always use the analytic method to compute the gradient. At the same time, numerical gradient is adopted to do the grad check*."
   ]
  },
  {
   "cell_type": "markdown",
   "metadata": {
    "colab_type": "text",
    "id": "G5hWliI9mX64"
   },
   "source": [
    "This is where [convex optimization](http://en.wikipedia.org/wiki/Convex_optimization) comes into play. We know that the logistic cost function is [convex](http://en.wikipedia.org/wiki/Convex_function) - just trust me on this. And since it is convex, it has a single global minimum which we can converge to using [gradient descent](http://en.wikipedia.org/wiki/Gradient_descent).\n",
    "\n",
    "Here is an image of a convex function:"
   ]
  },
  {
   "cell_type": "code",
   "execution_count": 12,
   "metadata": {
    "colab": {},
    "colab_type": "code",
    "id": "CwAzihgFmX65",
    "outputId": "91c663b8-8471-4bbc-eaa8-029b9ab8fa9c"
   },
   "outputs": [
    {
     "data": {
      "text/html": [
       "<img src=\"http://www.me.utexas.edu/~jensen/ORMM/models/unit/nonlinear/subunits/terminology/graphics/convex1.gif\"/>"
      ],
      "text/plain": [
       "<IPython.core.display.Image object>"
      ]
     },
     "execution_count": 12,
     "metadata": {},
     "output_type": "execute_result"
    }
   ],
   "source": [
    "from IPython.display import Image\n",
    "Image(url=\"http://www.me.utexas.edu/~jensen/ORMM/models/unit/nonlinear/subunits/terminology/graphics/convex1.gif\")"
   ]
  },
  {
   "cell_type": "markdown",
   "metadata": {
    "colab_type": "text",
    "id": "vJtQ3afKmX68"
   },
   "source": [
    "#####  Gradient Descent Tricks\n",
    "I think most of this are from [Andrew Ng's machine learning course](https://www.coursera.org/course/ml)\n",
    "* Normalize variables:\n",
    "    * This means for each variable subtract the mean and divide by standard deviation.\n",
    "* Learning rate:\n",
    "    * If not converging, the learning rate needs to be smaller - but will take longer to converge\n",
    "    * Good values to try ..., .001, .003, .01, .03, .1, .3, 1, 3, ...\n",
    "* Declare converges if cost decreases by less than $10^{-3}$ (this is just a decent suggestion)\n",
    "* Plot convergence as a check"
   ]
  },
  {
   "cell_type": "code",
   "execution_count": 13,
   "metadata": {
    "colab": {},
    "colab_type": "code",
    "collapsed": true,
    "id": "tSnuzAd7mX69"
   },
   "outputs": [],
   "source": [
    "def grad_desc(theta_values, X, y, lr=.001, converge_change=.001):\n",
    "    #normalize\n",
    "    #X = (X - np.mean(X, axis=0)) / np.std(X, axis=0)\n",
    "    #setup cost iter\n",
    "    cost_iter = []\n",
    "    cost = cost_func(theta_values, X, y)\n",
    "    cost_iter.append([0, cost])\n",
    "    change_cost = 1\n",
    "    i = 1\n",
    "    while(change_cost > converge_change):\n",
    "        old_cost = cost\n",
    "        theta_values = theta_values - (lr * log_gradient(theta_values, X, y))\n",
    "        cost = cost_func(theta_values, X, y)\n",
    "        cost_iter.append([i, cost])\n",
    "        change_cost = old_cost - cost\n",
    "        i+=1\n",
    "    return theta_values, np.array(cost_iter)\n",
    "def pred_values(theta, X, hard=True):\n",
    "    #normalize\n",
    "    #X = (X - np.mean(X, axis=0)) / np.std(X, axis=0)\n",
    "    pred_prob = logistic_func(theta, X)\n",
    "    pred_value = np.where(pred_prob >= .5, 1, 0)\n",
    "    if hard:\n",
    "        return pred_value\n",
    "    return pred_prob"
   ]
  },
  {
   "cell_type": "markdown",
   "metadata": {
    "colab_type": "text",
    "id": "xmNgTbhVmX7A"
   },
   "source": [
    "#### Put it to the test\n",
    "\n",
    "So here I will use the above code for our toy example. I initalize our $\\beta$ values to all be zero, then run gradient descent to learn the $\\beta$ values."
   ]
  },
  {
   "cell_type": "code",
   "execution_count": 64,
   "metadata": {
    "colab": {},
    "colab_type": "code",
    "id": "azz5QTKdmX7B",
    "outputId": "82e524e0-1d20-43a5-af79-a39d15927b48"
   },
   "outputs": [
    {
     "name": "stdout",
     "output_type": "stream",
     "text": [
      "[-0.03736953 -1.53519755  1.40503404]\n"
     ]
    }
   ],
   "source": [
    "shape = X_new.shape[1]\n",
    "y_flip = np.logical_not(y) #flip Setosa to be 1 and Versicolor to zero to be consistent\n",
    "betas = 0.001 * np.random.randn(shape,) \n",
    "fitted_values, cost_iter = grad_desc(betas, X_new, y_flip, lr=0.001)\n",
    "print(fitted_values)"
   ]
  },
  {
   "cell_type": "code",
   "execution_count": 65,
   "metadata": {},
   "outputs": [
    {
     "data": {
      "text/plain": [
       "(3,)"
      ]
     },
     "execution_count": 65,
     "metadata": {},
     "output_type": "execute_result"
    }
   ],
   "source": [
    "np.zeros(shape).shape"
   ]
  },
  {
   "cell_type": "markdown",
   "metadata": {
    "colab_type": "text",
    "id": "67BUxeWsmX7F"
   },
   "source": [
    "So I get a value of -1.5 for $\\beta_1$ and a value of 1.4 for $\\beta_2$. Remember that $\\beta_1$ is my coefficient for Sepal Length and $\\beta_2$ for Sepal Width. Meaning that as sepal width becomes larger I would have a stronger prediction for Setosa and as Sepal Length becomes larger I have more confidence it the plant being Versicolor. Which makes sense when looking at our earlier plot.\n",
    "\n",
    "Now let's make some predictions (Note: since we are returning a probability, if the probability is greater than or equal to 50% then I assign the value to Setosa - or a value of 1):"
   ]
  },
  {
   "cell_type": "code",
   "execution_count": 66,
   "metadata": {
    "colab": {},
    "colab_type": "code",
    "id": "QrfY9uyLmX7F",
    "outputId": "89f11d4a-a6b4-4929-b397-399c288cf02f"
   },
   "outputs": [
    {
     "data": {
      "text/plain": [
       "array([1, 1, 1, 1, 1, 1, 1, 1, 1, 1, 1, 1, 1, 1, 1, 1, 1, 1, 1, 1, 1, 1, 1,\n",
       "       1, 1, 1, 1, 1, 1, 1, 1, 1, 1, 1, 1, 1, 1, 1, 1, 1, 1, 0, 1, 1, 1, 1,\n",
       "       1, 1, 1, 1, 0, 0, 0, 0, 0, 0, 0, 0, 0, 0, 0, 0, 0, 0, 0, 0, 0, 0, 0,\n",
       "       0, 0, 0, 0, 0, 0, 0, 0, 0, 0, 0, 0, 0, 0, 0, 0, 0, 0, 0, 0, 0, 0, 0,\n",
       "       0, 0, 0, 0, 0, 0, 0, 0])"
      ]
     },
     "execution_count": 66,
     "metadata": {},
     "output_type": "execute_result"
    }
   ],
   "source": [
    "predicted_y = pred_values(fitted_values, X_new)\n",
    "predicted_y"
   ]
  },
  {
   "cell_type": "markdown",
   "metadata": {
    "colab_type": "text",
    "id": "W1P8DsWhmX7I"
   },
   "source": [
    "And let's see how accurate we are:"
   ]
  },
  {
   "cell_type": "code",
   "execution_count": 67,
   "metadata": {
    "colab": {},
    "colab_type": "code",
    "id": "aCiQPy30mX7J",
    "outputId": "33ebdb49-aac5-4923-99d3-ec502c01e37f"
   },
   "outputs": [
    {
     "data": {
      "text/plain": [
       "99"
      ]
     },
     "execution_count": 67,
     "metadata": {},
     "output_type": "execute_result"
    }
   ],
   "source": [
    "np.sum(y_flip == predicted_y)"
   ]
  },
  {
   "cell_type": "markdown",
   "metadata": {
    "colab_type": "text",
    "id": "x-M3ibz3mX7L"
   },
   "source": [
    "Cool - we got all but 1 right. So that is pretty good. But again note: this is a very simple example, where getting all correct is actually pretty easy and we are looking at training accuracy. But that is not the point - we just want to make sure our algorithm is working.\n",
    "\n",
    "We can do another check by taking a look at how our gradient descent converged:"
   ]
  },
  {
   "cell_type": "code",
   "execution_count": 17,
   "metadata": {
    "colab": {},
    "colab_type": "code",
    "id": "ijyr2JIvmX7M",
    "outputId": "a1e04fc8-eb32-4198-8854-e7063a7c117b"
   },
   "outputs": [
    {
     "data": {
      "image/png": "[encoded data removed]",
      "text/plain": [
       "<matplotlib.figure.Figure at 0x1152f7590>"
      ]
     },
     "metadata": {},
     "output_type": "display_data"
    }
   ],
   "source": [
    "plt.plot(cost_iter[:,0], cost_iter[:,1])\n",
    "plt.ylabel(\"Cost\")\n",
    "plt.xlabel(\"Iteration\")\n",
    "sns.despine()"
   ]
  },
  {
   "cell_type": "markdown",
   "metadata": {
    "colab_type": "text",
    "id": "-lYfX2JWmX7P"
   },
   "source": [
    "You can see that as we ran our algorithm, we continued to decrease our cost function and we stopped right at about when we see the decrease in cost to level out. Nice - everything seems to be working!\n",
    "\n",
    "Lastly, another nice check is to see how well a packaged version of the algorithm does:"
   ]
  },
  {
   "cell_type": "code",
   "execution_count": 18,
   "metadata": {
    "colab": {},
    "colab_type": "code",
    "id": "BzX7tWQGmX7Q",
    "outputId": "b5d186ca-fd9f-4e8d-bf56-5a4574219f9f"
   },
   "outputs": [
    {
     "data": {
      "text/plain": [
       "100"
      ]
     },
     "execution_count": 18,
     "metadata": {},
     "output_type": "execute_result"
    }
   ],
   "source": [
    "from sklearn import linear_model\n",
    "logreg = linear_model.LogisticRegression()\n",
    "logreg.fit(X_new, y_flip)\n",
    "sum(y_flip == logreg.predict(X_new))"
   ]
  },
  {
   "cell_type": "markdown",
   "metadata": {
    "colab_type": "text",
    "id": "JDFI4xoLmX7R"
   },
   "source": [
    "Cool - they also get 100 / 100 correct. Looking good :)"
   ]
  }
 ],
 "metadata": {
  "colab": {
   "name": "Logistic Gradient Descent.ipynb",
   "provenance": [],
   "version": "0.3.2"
  },
  "kernelspec": {
   "display_name": "Python 3",
   "language": "python",
   "name": "python3"
  },
  "language_info": {
   "codemirror_mode": {
    "name": "ipython",
    "version": 3
   },
   "file_extension": ".py",
   "mimetype": "text/x-python",
   "name": "python",
   "nbconvert_exporter": "python",
   "pygments_lexer": "ipython3",
   "version": "3.7.3"
  }
 },
 "nbformat": 4,
 "nbformat_minor": 1
}
